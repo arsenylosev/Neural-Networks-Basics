{
 "cells": [
  {
   "cell_type": "markdown",
   "id": "c73a1d7d",
   "metadata": {},
   "source": [
    "# Исследование методов уменьшения переобучения нейронных сетей на примере модернизированной сети LeNet на датасете CIFAR"
   ]
  },
  {
   "cell_type": "markdown",
   "id": "5dafceda",
   "metadata": {},
   "source": [
    "Дисциплина: \"**Системы поддержки принятия решений**\""
   ]
  },
  {
   "cell_type": "markdown",
   "id": "328dc6f6",
   "metadata": {},
   "source": [
    "**Подготовил**: Лосев А. П., гр. ИСТ-131м."
   ]
  },
  {
   "cell_type": "markdown",
   "id": "c211ec6b",
   "metadata": {},
   "source": [
    "**Принял**: к.т.н., доцент кафедры ИУС, Литвинов В. Л."
   ]
  },
  {
   "cell_type": "markdown",
   "id": "05cf05ce",
   "metadata": {},
   "source": [
    "Импорт необходимых зависимостей и инициализация *random seed*:"
   ]
  },
  {
   "cell_type": "code",
   "execution_count": 1,
   "id": "92faeda7",
   "metadata": {
    "executionInfo": {
     "elapsed": 2262,
     "status": "ok",
     "timestamp": 1651733573747,
     "user": {
      "displayName": "Владислав Литвинов",
      "userId": "10051561819562137549"
     },
     "user_tz": -180
    },
    "id": "BL28WIn9UBqr"
   },
   "outputs": [],
   "source": [
    "import torch\n",
    "import random\n",
    "import numpy as np\n",
    "\n",
    "random.seed(0)\n",
    "np.random.seed(0)\n",
    "torch.manual_seed(0)\n",
    "torch.cuda.manual_seed(0)\n",
    "torch.backends.cudnn.deterministic = True"
   ]
  },
  {
   "cell_type": "markdown",
   "id": "72ece4c0",
   "metadata": {},
   "source": [
    "Импорт встроенных наборов для обучения:"
   ]
  },
  {
   "cell_type": "code",
   "execution_count": 2,
   "id": "42aeff72",
   "metadata": {
    "executionInfo": {
     "elapsed": 289,
     "status": "ok",
     "timestamp": 1651733599293,
     "user": {
      "displayName": "Владислав Литвинов",
      "userId": "10051561819562137549"
     },
     "user_tz": -180
    },
    "id": "dgOKyBcnUBqy"
   },
   "outputs": [],
   "source": [
    "import torchvision.datasets"
   ]
  },
  {
   "cell_type": "markdown",
   "id": "046a27f0",
   "metadata": {},
   "source": [
    "Загрузка датасетов CIFAR для обучения и валидации результатов:"
   ]
  },
  {
   "cell_type": "code",
   "execution_count": 3,
   "id": "108cccdd",
   "metadata": {
    "colab": {
     "base_uri": "https://localhost:8080/",
     "height": 101,
     "referenced_widgets": [
      "d962469a131f44a0a38a227938fc0f42",
      "7398bb9b85524a138e44e900d6e91cbd",
      "bed705f8ba154e73ad27800a958397ff",
      "f583a1fd83d142c6b39973ba2864d627",
      "aaea749bb7da486e9f6565561e8cd76d",
      "8de5635529f94c1bafdfdfcabf7e0684",
      "740b759a9afb4afebc2f0843b527bcfd",
      "68cc59ed14da4f1d94d610cdd9100604",
      "a3b999a6f51f45c58b6b715aed28c16e",
      "905f2fa8c13242279361bcfa27b3d443",
      "23494367018e4f6f86877b2a7ac1cacf"
     ]
    },
    "executionInfo": {
     "elapsed": 9949,
     "status": "ok",
     "timestamp": 1651733611079,
     "user": {
      "displayName": "Владислав Литвинов",
      "userId": "10051561819562137549"
     },
     "user_tz": -180
    },
    "id": "8tzXhm4WUBq3",
    "outputId": "a886f461-bb05-423f-8b4d-a1e3f917cd41",
    "scrolled": true
   },
   "outputs": [
    {
     "name": "stdout",
     "output_type": "stream",
     "text": [
      "Files already downloaded and verified\n",
      "Files already downloaded and verified\n"
     ]
    }
   ],
   "source": [
    "CIFAR_train = torchvision.datasets.CIFAR10('./', download=True, train=True)\n",
    "CIFAR_test = torchvision.datasets.CIFAR10('./', download=True, train=False)"
   ]
  },
  {
   "cell_type": "markdown",
   "id": "e9b30240",
   "metadata": {},
   "source": [
    "Размещение загруженных датасетов в переменные:"
   ]
  },
  {
   "cell_type": "code",
   "execution_count": 4,
   "id": "3fcad6b9",
   "metadata": {
    "executionInfo": {
     "elapsed": 758,
     "status": "ok",
     "timestamp": 1651733617801,
     "user": {
      "displayName": "Владислав Литвинов",
      "userId": "10051561819562137549"
     },
     "user_tz": -180
    },
    "id": "8vOuPxKJUBq9"
   },
   "outputs": [],
   "source": [
    "X_train = torch.FloatTensor(CIFAR_train.data)\n",
    "y_train = torch.LongTensor(CIFAR_train.targets)\n",
    "X_test = torch.FloatTensor(CIFAR_test.data)\n",
    "y_test = torch.LongTensor(CIFAR_test.targets)"
   ]
  },
  {
   "cell_type": "markdown",
   "id": "540382b5",
   "metadata": {},
   "source": [
    "Вывод информации о количестве индивидуальных единиц данных в датасетах:"
   ]
  },
  {
   "cell_type": "code",
   "execution_count": 5,
   "id": "225f3307",
   "metadata": {
    "colab": {
     "base_uri": "https://localhost:8080/",
     "height": 0
    },
    "executionInfo": {
     "elapsed": 259,
     "status": "ok",
     "timestamp": 1651733620874,
     "user": {
      "displayName": "Владислав Литвинов",
      "userId": "10051561819562137549"
     },
     "user_tz": -180
    },
    "id": "MWzz04yuUBrC",
    "outputId": "e28cb02c-b753-49f1-f6ef-f1cc29e39072",
    "scrolled": true
   },
   "outputs": [
    {
     "data": {
      "text/plain": [
       "(50000, 10000)"
      ]
     },
     "execution_count": 5,
     "metadata": {},
     "output_type": "execute_result"
    }
   ],
   "source": [
    "len(y_train), len(y_test)"
   ]
  },
  {
   "cell_type": "markdown",
   "id": "76bc5f50",
   "metadata": {},
   "source": [
    "Вывод информации о максимальном и минимальном значении для изображений:"
   ]
  },
  {
   "cell_type": "code",
   "execution_count": 6,
   "id": "c70c934d",
   "metadata": {
    "colab": {
     "base_uri": "https://localhost:8080/",
     "height": 0
    },
    "executionInfo": {
     "elapsed": 774,
     "status": "ok",
     "timestamp": 1651733624369,
     "user": {
      "displayName": "Владислав Литвинов",
      "userId": "10051561819562137549"
     },
     "user_tz": -180
    },
    "id": "8Bhl6mPJUBrH",
    "outputId": "7dfda0d3-1fe7-43c9-ff30-d59b12957964"
   },
   "outputs": [
    {
     "data": {
      "text/plain": [
       "(tensor(0.), tensor(255.))"
      ]
     },
     "execution_count": 6,
     "metadata": {},
     "output_type": "execute_result"
    }
   ],
   "source": [
    "X_train.min(), X_train.max()"
   ]
  },
  {
   "cell_type": "markdown",
   "id": "f2135a7a",
   "metadata": {},
   "source": [
    "Деление значений в датасете на 255 для удобства манипулирования:"
   ]
  },
  {
   "cell_type": "code",
   "execution_count": 7,
   "id": "e6eed277",
   "metadata": {
    "executionInfo": {
     "elapsed": 289,
     "status": "ok",
     "timestamp": 1651733627102,
     "user": {
      "displayName": "Владислав Литвинов",
      "userId": "10051561819562137549"
     },
     "user_tz": -180
    },
    "id": "DUuAl1f3UBrL"
   },
   "outputs": [],
   "source": [
    "X_train /= 255.\n",
    "X_test /= 255."
   ]
  },
  {
   "cell_type": "markdown",
   "id": "52988a34",
   "metadata": {},
   "source": [
    "Вывод информации о классах изображений, используемых в датасете CIFAR:"
   ]
  },
  {
   "cell_type": "code",
   "execution_count": 8,
   "id": "7add1c03",
   "metadata": {
    "colab": {
     "base_uri": "https://localhost:8080/",
     "height": 0
    },
    "executionInfo": {
     "elapsed": 8,
     "status": "ok",
     "timestamp": 1651733629467,
     "user": {
      "displayName": "Владислав Литвинов",
      "userId": "10051561819562137549"
     },
     "user_tz": -180
    },
    "id": "TtFWp6J7UBrO",
    "outputId": "b7f326ee-3446-4182-d5fa-9ac7215d8ea2"
   },
   "outputs": [
    {
     "data": {
      "text/plain": [
       "['airplane',\n",
       " 'automobile',\n",
       " 'bird',\n",
       " 'cat',\n",
       " 'deer',\n",
       " 'dog',\n",
       " 'frog',\n",
       " 'horse',\n",
       " 'ship',\n",
       " 'truck']"
      ]
     },
     "execution_count": 8,
     "metadata": {},
     "output_type": "execute_result"
    }
   ],
   "source": [
    "CIFAR_train.classes"
   ]
  },
  {
   "cell_type": "markdown",
   "id": "af073d1e",
   "metadata": {},
   "source": [
    "Вывод изображений из датасета CIFAR для визуальной оценки и сопоставления с номерами тензоров:"
   ]
  },
  {
   "cell_type": "code",
   "execution_count": 9,
   "id": "f29566c8",
   "metadata": {
    "colab": {
     "base_uri": "https://localhost:8080/",
     "height": 146
    },
    "executionInfo": {
     "elapsed": 1460,
     "status": "ok",
     "timestamp": 1651733634176,
     "user": {
      "displayName": "Владислав Литвинов",
      "userId": "10051561819562137549"
     },
     "user_tz": -180
    },
    "id": "RpH9Rbq9UBrQ",
    "outputId": "b5a75302-8a63-4556-b37a-b5d93e2c7d57"
   },
   "outputs": [
    {
     "name": "stdout",
     "output_type": "stream",
     "text": [
      "tensor(0)    tensor(6)    tensor(6)    tensor(1)    tensor(6)    tensor(3)    tensor(1)    tensor(0)    tensor(9)    "
     ]
    },
    {
     "data": {
      "image/png": "[encoded data removed]",
      "text/plain": [
       "<Figure size 1440x720 with 9 Axes>"
      ]
     },
     "metadata": {
      "needs_background": "light"
     },
     "output_type": "display_data"
    }
   ],
   "source": [
    "import matplotlib.pyplot as plt\n",
    "plt.figure(figsize=(20,10))\n",
    "for i in range(3, 12):\n",
    "    plt.subplot(3, 12, i+1)\n",
    "    plt.imshow(X_test[i])\n",
    "    print(y_test[i], end='    ')"
   ]
  },
  {
   "cell_type": "markdown",
   "id": "26a06907",
   "metadata": {},
   "source": [
    "Вывод информации о размерности набора данных для обучения, где указано количество изображений (**50000**) и размерность тензора изображения (**32x32x3**):"
   ]
  },
  {
   "cell_type": "code",
   "execution_count": 10,
   "id": "cf55c2a1",
   "metadata": {
    "colab": {
     "base_uri": "https://localhost:8080/",
     "height": 0
    },
    "executionInfo": {
     "elapsed": 273,
     "status": "ok",
     "timestamp": 1651733636941,
     "user": {
      "displayName": "Владислав Литвинов",
      "userId": "10051561819562137549"
     },
     "user_tz": -180
    },
    "id": "OXu8TY69UBrT",
    "outputId": "68d681c5-8196-423a-88cd-99188183eb02",
    "scrolled": true
   },
   "outputs": [
    {
     "data": {
      "text/plain": [
       "(torch.Size([50000, 32, 32, 3]), torch.Size([50000]))"
      ]
     },
     "execution_count": 10,
     "metadata": {},
     "output_type": "execute_result"
    }
   ],
   "source": [
    "X_train.shape, y_train.shape"
   ]
  },
  {
   "cell_type": "markdown",
   "id": "ffdd1053",
   "metadata": {},
   "source": [
    "Перестановка последовательности информации в тензоре для удобства работы (первоочерёдно — каналы цвета (**3**), после — размерность изображения(**32x32**)):"
   ]
  },
  {
   "cell_type": "code",
   "execution_count": 11,
   "id": "0b50b0eb",
   "metadata": {
    "executionInfo": {
     "elapsed": 261,
     "status": "ok",
     "timestamp": 1651733639486,
     "user": {
      "displayName": "Владислав Литвинов",
      "userId": "10051561819562137549"
     },
     "user_tz": -180
    },
    "id": "FTQ7B7PTUBrX"
   },
   "outputs": [],
   "source": [
    "X_train = X_train.permute(0, 3, 1, 2)\n",
    "X_test = X_test.permute(0, 3, 1, 2)"
   ]
  },
  {
   "cell_type": "markdown",
   "id": "09296eb1",
   "metadata": {},
   "source": [
    "Вывод информации о размерности набора данных для обучения, где указано количество изображений (**50000**) и размерность тензора изображения (**3x32x32**):"
   ]
  },
  {
   "cell_type": "code",
   "execution_count": 12,
   "id": "826926ad",
   "metadata": {
    "colab": {
     "base_uri": "https://localhost:8080/",
     "height": 0
    },
    "executionInfo": {
     "elapsed": 317,
     "status": "ok",
     "timestamp": 1651733641660,
     "user": {
      "displayName": "Владислав Литвинов",
      "userId": "10051561819562137549"
     },
     "user_tz": -180
    },
    "id": "BW7fJPCmUBra",
    "outputId": "a2983bcf-3024-4653-c331-c4586151c8ad"
   },
   "outputs": [
    {
     "data": {
      "text/plain": [
       "torch.Size([50000, 3, 32, 32])"
      ]
     },
     "execution_count": 12,
     "metadata": {},
     "output_type": "execute_result"
    }
   ],
   "source": [
    "X_train.shape"
   ]
  },
  {
   "cell_type": "markdown",
   "id": "8e2a351b",
   "metadata": {},
   "source": [
    "Создание функции, осуществляющей обучение нейронной сети:"
   ]
  },
  {
   "cell_type": "code",
   "execution_count": 13,
   "id": "64c6ba54",
   "metadata": {
    "executionInfo": {
     "elapsed": 408,
     "status": "ok",
     "timestamp": 1651733644654,
     "user": {
      "displayName": "Владислав Литвинов",
      "userId": "10051561819562137549"
     },
     "user_tz": -180
    },
    "id": "ej7SJQy2UBrg"
   },
   "outputs": [],
   "source": [
    "def train(X_train, y_train, X_test, y_test):\n",
    "    device = torch.device('cuda:0' if torch.cuda.is_available() else 'cpu')\n",
    "    loss = torch.nn.CrossEntropyLoss()\n",
    "    optimizer = torch.optim.Adam(net.parameters(), lr=1.0e-3, weight_decay=1e-5)\n",
    "    \n",
    "    batch_size = 100\n",
    "\n",
    "    test_accuracy_history = []\n",
    "    test_loss_history = []\n",
    "\n",
    "    X_test = X_test.to(device)\n",
    "    y_test = y_test.to(device)\n",
    "\n",
    "    for epoch in range(50):\n",
    "        order = np.random.permutation(len(X_train))\n",
    "        for start_index in range(0, len(X_train), batch_size):\n",
    "            optimizer.zero_grad()\n",
    "            net.train()\n",
    "\n",
    "            batch_indexes = order[start_index:start_index+batch_size]\n",
    "\n",
    "            X_batch = X_train[batch_indexes].to(device)\n",
    "            y_batch = y_train[batch_indexes].to(device)\n",
    "\n",
    "            preds = net.forward(X_batch)\n",
    "\n",
    "            loss_value = loss(preds, y_batch)\n",
    "            loss_value.backward()\n",
    "\n",
    "            optimizer.step()\n",
    "            \n",
    "        net.eval()\n",
    "        with torch.no_grad(): \n",
    "             test_preds = net.forward(X_test)\n",
    "            \n",
    "        test_loss_history.append(loss(test_preds, y_test).data.cpu())\n",
    "\n",
    "        accuracy = (test_preds.argmax(dim=1) == y_test).float().mean().data.cpu()\n",
    "        test_accuracy_history.append(accuracy)\n",
    "        \n",
    "        print(accuracy)\n",
    "    print('---------------')    \n",
    "    return test_accuracy_history, test_loss_history\n",
    "\n",
    "accuracies = {}\n",
    "losses = {}"
   ]
  },
  {
   "cell_type": "markdown",
   "id": "1d5a72cf",
   "metadata": {},
   "source": [
    "Создание модели нейронной сети с заданной архитектурой:"
   ]
  },
  {
   "cell_type": "code",
   "execution_count": 14,
   "id": "827186b9",
   "metadata": {
    "executionInfo": {
     "elapsed": 258,
     "status": "ok",
     "timestamp": 1651733694053,
     "user": {
      "displayName": "Владислав Литвинов",
      "userId": "10051561819562137549"
     },
     "user_tz": -180
    },
    "id": "_b8itbjKUBrj"
   },
   "outputs": [],
   "source": [
    "class CIFARNet(torch.nn.Module):\n",
    "    def __init__(self):\n",
    "        super(CIFARNet, self).__init__()\n",
    "        self.batch_norm0 = torch.nn.BatchNorm2d(3)\n",
    "#         self.batch_drop0 = torch.nn.Dropout2d(p=0.15, inplace=False)\n",
    "#         self.batch_drop2 = torch.nn.Dropout2d(p=0.15, inplace=False)\n",
    "#         self.batch_drop1 = torch.nn.Dropout(p=0.15, inplace=False)\n",
    "\n",
    "        self.conv1 = torch.nn.Conv2d(3, 16, 3, padding=1)\n",
    "        self.act1  = torch.nn.ReLU()\n",
    "        self.batch_norm1 = torch.nn.BatchNorm2d(16)\n",
    "        self.pool1 = torch.nn.MaxPool2d(2, 2)\n",
    "        \n",
    "        self.conv2 = torch.nn.Conv2d(16, 32, 3, padding=1)\n",
    "        self.act2  = torch.nn.ReLU()\n",
    "        self.batch_norm2 = torch.nn.BatchNorm2d(32)\n",
    "        self.pool2 = torch.nn.MaxPool2d(2, 2)\n",
    "        \n",
    "        self.conv3 = torch.nn.Conv2d(32, 64, 3, padding=1)\n",
    "        self.act3  = torch.nn.ReLU()\n",
    "        self.batch_norm3 = torch.nn.BatchNorm2d(64)\n",
    "\n",
    "        self.fc1   = torch.nn.Linear(8 * 8 * 64, 256)\n",
    "        self.act4  = torch.nn.Tanh()\n",
    "        self.batch_norm4 = torch.nn.BatchNorm1d(256)\n",
    "        \n",
    "        self.fc2   = torch.nn.Linear(256, 64)\n",
    "        self.act5  = torch.nn.Tanh()\n",
    "        self.batch_norm5 = torch.nn.BatchNorm1d(64)\n",
    "        \n",
    "        self.fc3   = torch.nn.Linear(64, 10)\n",
    "    \n",
    "    def forward(self, x):\n",
    "        x = self.batch_norm0(x)\n",
    "#         x = self.batch_drop0(x)\n",
    "        x = self.conv1(x)\n",
    "        x = self.act1(x)\n",
    "        x = self.batch_norm1(x)\n",
    "#         x = self.batch_drop2(x)\n",
    "        x = self.pool1(x)\n",
    "        \n",
    "        x = self.conv2(x)\n",
    "        x = self.act2(x)\n",
    "        x = self.batch_norm2(x)\n",
    "#         x = self.batch_drop2(x)\n",
    "        x = self.pool2(x)\n",
    "        \n",
    "        x = self.conv3(x)\n",
    "        x = self.act3(x)\n",
    "        x = self.batch_norm3(x)\n",
    "#         x = self.batch_drop2(x)\n",
    "        \n",
    "        x = x.view(x.size(0), x.size(1) * x.size(2) * x.size(3))\n",
    "        x = self.fc1(x)\n",
    "        x = self.act4(x)\n",
    "        x = self.batch_norm4(x)\n",
    "#         x = self.batch_drop1(x)\n",
    "        x = self.fc2(x)\n",
    "        x = self.act5(x)\n",
    "        x = self.batch_norm5(x)\n",
    "#         x = self.batch_drop1(x)\n",
    "        x = self.fc3(x)\n",
    "        \n",
    "        return x\n",
    "net = CIFARNet()  "
   ]
  },
  {
   "cell_type": "markdown",
   "id": "0843c747",
   "metadata": {},
   "source": [
    "Использование GPU как основного устройства для расчётов (при возможности задействования):"
   ]
  },
  {
   "cell_type": "code",
   "execution_count": 15,
   "id": "68472aaa",
   "metadata": {
    "executionInfo": {
     "elapsed": 9140,
     "status": "ok",
     "timestamp": 1651733741287,
     "user": {
      "displayName": "Владислав Литвинов",
      "userId": "10051561819562137549"
     },
     "user_tz": -180
    },
    "id": "u0tnK364UBrm"
   },
   "outputs": [],
   "source": [
    "device = torch.device('cuda:0' if torch.cuda.is_available() else 'cpu')\n",
    "net = net.to(device)"
   ]
  },
  {
   "cell_type": "markdown",
   "id": "cd0fd86c",
   "metadata": {},
   "source": [
    "Обучение нейронной сети и вывод информации о точности предсказания:"
   ]
  },
  {
   "cell_type": "code",
   "execution_count": 16,
   "id": "c2a76ced",
   "metadata": {
    "colab": {
     "base_uri": "https://localhost:8080/",
     "height": 0
    },
    "executionInfo": {
     "elapsed": 187045,
     "status": "ok",
     "timestamp": 1651733930599,
     "user": {
      "displayName": "Владислав Литвинов",
      "userId": "10051561819562137549"
     },
     "user_tz": -180
    },
    "id": "59LQnY24UBrp",
    "outputId": "5f427475-7e04-48f7-991d-c29e345bcbdf"
   },
   "outputs": [
    {
     "name": "stdout",
     "output_type": "stream",
     "text": [
      "tensor(0.6569)\n",
      "tensor(0.7069)\n",
      "tensor(0.7101)\n",
      "tensor(0.7216)\n",
      "tensor(0.7232)\n",
      "tensor(0.7259)\n",
      "tensor(0.7290)\n",
      "tensor(0.7158)\n",
      "tensor(0.7200)\n",
      "tensor(0.7215)\n",
      "tensor(0.7273)\n",
      "tensor(0.7275)\n",
      "tensor(0.7199)\n",
      "tensor(0.7174)\n",
      "tensor(0.7210)\n",
      "tensor(0.7217)\n",
      "tensor(0.7225)\n",
      "tensor(0.7210)\n",
      "tensor(0.7282)\n",
      "tensor(0.7228)\n",
      "tensor(0.7170)\n",
      "tensor(0.7234)\n",
      "tensor(0.7172)\n",
      "tensor(0.7223)\n",
      "tensor(0.7238)\n",
      "tensor(0.7131)\n",
      "tensor(0.7243)\n",
      "tensor(0.7199)\n",
      "tensor(0.7163)\n",
      "tensor(0.7259)\n",
      "tensor(0.7203)\n",
      "tensor(0.7185)\n",
      "tensor(0.7197)\n",
      "tensor(0.7232)\n",
      "tensor(0.7233)\n",
      "tensor(0.7194)\n",
      "tensor(0.7176)\n",
      "tensor(0.7195)\n",
      "tensor(0.7229)\n",
      "tensor(0.7187)\n",
      "tensor(0.7238)\n",
      "tensor(0.7247)\n",
      "tensor(0.7281)\n",
      "tensor(0.7254)\n",
      "tensor(0.7307)\n",
      "tensor(0.7168)\n",
      "tensor(0.7334)\n",
      "tensor(0.7278)\n",
      "tensor(0.7263)\n",
      "tensor(0.7309)\n",
      "---------------\n"
     ]
    }
   ],
   "source": [
    "accuracies['cifar_net_drop'], losses['cifar_net_drop'] = \\\n",
    "    train(X_train, y_train, X_test, y_test)"
   ]
  },
  {
   "cell_type": "markdown",
   "id": "6a0bbbd7",
   "metadata": {},
   "source": [
    "Графическое представление зависимости точности предсказаний от пройденной эпохи:"
   ]
  },
  {
   "cell_type": "code",
   "execution_count": 17,
   "id": "51d88c81",
   "metadata": {
    "colab": {
     "base_uri": "https://localhost:8080/",
     "height": 281
    },
    "executionInfo": {
     "elapsed": 363,
     "status": "ok",
     "timestamp": 1651733987549,
     "user": {
      "displayName": "Владислав Литвинов",
      "userId": "10051561819562137549"
     },
     "user_tz": -180
    },
    "id": "bSPjNKd2UBrr",
    "outputId": "02759d2b-89e5-4f6c-fa6e-5c7a4dcce25c"
   },
   "outputs": [
    {
     "data": {
      "image/png": "[encoded data removed]",
      "text/plain": [
       "<Figure size 432x288 with 1 Axes>"
      ]
     },
     "metadata": {
      "needs_background": "light"
     },
     "output_type": "display_data"
    }
   ],
   "source": [
    "for experiment_id in accuracies.keys():\n",
    "    plt.plot(accuracies[experiment_id], label=experiment_id)\n",
    "plt.legend()\n",
    "plt.title('Validation Accuracy');"
   ]
  },
  {
   "cell_type": "markdown",
   "id": "5185685f",
   "metadata": {},
   "source": [
    "Графическое представление зависимости значений функции потерь от пройденной эпохи:"
   ]
  },
  {
   "cell_type": "code",
   "execution_count": 18,
   "id": "87b582f6",
   "metadata": {
    "colab": {
     "base_uri": "https://localhost:8080/",
     "height": 281
    },
    "executionInfo": {
     "elapsed": 453,
     "status": "ok",
     "timestamp": 1651733992468,
     "user": {
      "displayName": "Владислав Литвинов",
      "userId": "10051561819562137549"
     },
     "user_tz": -180
    },
    "id": "cPNletLUUBru",
    "outputId": "a4783234-4144-40ed-c6a5-9b71b49eb08d"
   },
   "outputs": [
    {
     "data": {
      "image/png": "[encoded data removed]",
      "text/plain": [
       "<Figure size 432x288 with 1 Axes>"
      ]
     },
     "metadata": {
      "needs_background": "light"
     },
     "output_type": "display_data"
    }
   ],
   "source": [
    "for experiment_id in losses.keys():\n",
    "    plt.plot(losses[experiment_id], label=experiment_id)\n",
    "plt.legend()\n",
    "plt.title('Validation Loss');"
   ]
  },
  {
   "cell_type": "markdown",
   "id": "ed084503",
   "metadata": {},
   "source": [
    "Вывод информации о наборе X_test:"
   ]
  },
  {
   "cell_type": "code",
   "execution_count": 19,
   "id": "75ea22b8",
   "metadata": {
    "colab": {
     "base_uri": "https://localhost:8080/"
    },
    "executionInfo": {
     "elapsed": 304,
     "status": "ok",
     "timestamp": 1651733997052,
     "user": {
      "displayName": "Владислав Литвинов",
      "userId": "10051561819562137549"
     },
     "user_tz": -180
    },
    "id": "_x9ndS4eUBrw",
    "outputId": "382263b7-3147-4b2d-b4e7-7c17a2c27fb7"
   },
   "outputs": [
    {
     "data": {
      "text/plain": [
       "torch.Size([10000, 3, 32, 32])"
      ]
     },
     "execution_count": 19,
     "metadata": {},
     "output_type": "execute_result"
    }
   ],
   "source": [
    "X_test.shape"
   ]
  },
  {
   "cell_type": "markdown",
   "id": "0a2dc0f4",
   "metadata": {},
   "source": [
    "Вывод информации о максимальном и минимальном значении в переменной:"
   ]
  },
  {
   "cell_type": "code",
   "execution_count": 20,
   "id": "a314f53e",
   "metadata": {
    "colab": {
     "base_uri": "https://localhost:8080/"
    },
    "executionInfo": {
     "elapsed": 306,
     "status": "ok",
     "timestamp": 1651734000873,
     "user": {
      "displayName": "Владислав Литвинов",
      "userId": "10051561819562137549"
     },
     "user_tz": -180
    },
    "id": "dx-KFaXsUBry",
    "outputId": "2a9556ba-c4cd-4e24-a0e7-ed877472a54a"
   },
   "outputs": [
    {
     "data": {
      "text/plain": [
       "(tensor(0.), tensor(1.))"
      ]
     },
     "execution_count": 20,
     "metadata": {},
     "output_type": "execute_result"
    }
   ],
   "source": [
    "X_test.min(), X_test.max()"
   ]
  },
  {
   "cell_type": "markdown",
   "id": "9ec5861e",
   "metadata": {},
   "source": [
    "Получение информации о конкретном тензоре:"
   ]
  },
  {
   "cell_type": "code",
   "execution_count": 21,
   "id": "aa367be6",
   "metadata": {
    "colab": {
     "base_uri": "https://localhost:8080/"
    },
    "executionInfo": {
     "elapsed": 281,
     "status": "ok",
     "timestamp": 1651734003133,
     "user": {
      "displayName": "Владислав Литвинов",
      "userId": "10051561819562137549"
     },
     "user_tz": -180
    },
    "id": "IIt58IRgUBr1",
    "outputId": "88186703-e33e-4450-df1d-e2191308add8"
   },
   "outputs": [
    {
     "name": "stdout",
     "output_type": "stream",
     "text": [
      "tensor(3)\n"
     ]
    }
   ],
   "source": [
    "X_test1=X_test[187, :, :, :]\n",
    "print(y_test[187])"
   ]
  },
  {
   "cell_type": "markdown",
   "id": "703b574a",
   "metadata": {},
   "source": [
    "Вывод информации о размерности тензора:"
   ]
  },
  {
   "cell_type": "code",
   "execution_count": 22,
   "id": "9934e747",
   "metadata": {
    "colab": {
     "base_uri": "https://localhost:8080/"
    },
    "executionInfo": {
     "elapsed": 278,
     "status": "ok",
     "timestamp": 1651734006147,
     "user": {
      "displayName": "Владислав Литвинов",
      "userId": "10051561819562137549"
     },
     "user_tz": -180
    },
    "id": "EwIULhy9UBr4",
    "outputId": "104e8550-fa85-4d52-b90e-9dd4e45b94d9"
   },
   "outputs": [
    {
     "data": {
      "text/plain": [
       "torch.Size([1, 3, 32, 32])"
      ]
     },
     "execution_count": 22,
     "metadata": {},
     "output_type": "execute_result"
    }
   ],
   "source": [
    "X_test1 = X_test1.unsqueeze(0)\n",
    "X_test1.shape"
   ]
  },
  {
   "cell_type": "markdown",
   "id": "fa05d435",
   "metadata": {},
   "source": [
    "Перенос значения переменной на конкретное вычислительное устройство (GPU или CPU):"
   ]
  },
  {
   "cell_type": "code",
   "execution_count": 23,
   "id": "89003036",
   "metadata": {
    "executionInfo": {
     "elapsed": 273,
     "status": "ok",
     "timestamp": 1651734009473,
     "user": {
      "displayName": "Владислав Литвинов",
      "userId": "10051561819562137549"
     },
     "user_tz": -180
    },
    "id": "DHEU1wStUBr6"
   },
   "outputs": [],
   "source": [
    "X_test1=X_test1.to(device)"
   ]
  },
  {
   "cell_type": "markdown",
   "id": "6e055b72",
   "metadata": {},
   "source": [
    "Задействование нейронной сети для распознавания образа из переменной:"
   ]
  },
  {
   "cell_type": "code",
   "execution_count": 24,
   "id": "2c76f034",
   "metadata": {
    "executionInfo": {
     "elapsed": 321,
     "status": "ok",
     "timestamp": 1651734011957,
     "user": {
      "displayName": "Владислав Литвинов",
      "userId": "10051561819562137549"
     },
     "user_tz": -180
    },
    "id": "bhtGUNyHUBr9"
   },
   "outputs": [],
   "source": [
    "net.eval()\n",
    "with torch.no_grad():\n",
    "     y1 = net.forward(X_test1)"
   ]
  },
  {
   "cell_type": "markdown",
   "id": "47d5aeeb",
   "metadata": {},
   "source": [
    "Вывод информации о полученной переменной:"
   ]
  },
  {
   "cell_type": "code",
   "execution_count": 25,
   "id": "fbcd6165",
   "metadata": {
    "colab": {
     "base_uri": "https://localhost:8080/"
    },
    "executionInfo": {
     "elapsed": 276,
     "status": "ok",
     "timestamp": 1651734015221,
     "user": {
      "displayName": "Владислав Литвинов",
      "userId": "10051561819562137549"
     },
     "user_tz": -180
    },
    "id": "0ltdGP-WUBsC",
    "outputId": "ab2359fd-9558-4835-ab9b-6ec99eb931bd"
   },
   "outputs": [
    {
     "name": "stdout",
     "output_type": "stream",
     "text": [
      "tensor([[  5.0395, -11.4773,  11.3764,   9.2760,  -0.6596,   0.6832,  -1.4805,\n",
      "          -6.2613,  -2.2974, -11.5385]], device='cuda:0')\n"
     ]
    }
   ],
   "source": [
    "print(y1)"
   ]
  },
  {
   "cell_type": "markdown",
   "id": "cc5cb939",
   "metadata": {},
   "source": [
    "Перестановка очерёдности измерений и перенос переменной обратно на CPU для возможности вывода изображения на график:"
   ]
  },
  {
   "cell_type": "code",
   "execution_count": 26,
   "id": "5fe6b27f",
   "metadata": {
    "executionInfo": {
     "elapsed": 260,
     "status": "ok",
     "timestamp": 1651734017647,
     "user": {
      "displayName": "Владислав Литвинов",
      "userId": "10051561819562137549"
     },
     "user_tz": -180
    },
    "id": "T7LsgmcRUBsG"
   },
   "outputs": [],
   "source": [
    "X_test2=X_test[187, :, :, :]\n",
    "X_test2 = X_test2.permute(1, 2, 0)\n",
    "X_test2=X_test2.to('cpu')"
   ]
  },
  {
   "cell_type": "markdown",
   "id": "ff15eb3a",
   "metadata": {},
   "source": [
    "Вывод информации о размерности переменной X_test2:"
   ]
  },
  {
   "cell_type": "code",
   "execution_count": 27,
   "id": "2e0d575e",
   "metadata": {
    "colab": {
     "base_uri": "https://localhost:8080/"
    },
    "executionInfo": {
     "elapsed": 271,
     "status": "ok",
     "timestamp": 1651734019919,
     "user": {
      "displayName": "Владислав Литвинов",
      "userId": "10051561819562137549"
     },
     "user_tz": -180
    },
    "id": "URsVke0PUBsI",
    "outputId": "6d08dddf-e1a0-4ac0-e351-36df9dc663d8"
   },
   "outputs": [
    {
     "data": {
      "text/plain": [
       "torch.Size([32, 32, 3])"
      ]
     },
     "execution_count": 27,
     "metadata": {},
     "output_type": "execute_result"
    }
   ],
   "source": [
    "X_test2.shape"
   ]
  },
  {
   "cell_type": "markdown",
   "id": "81b3ffd6",
   "metadata": {},
   "source": [
    "Вывод изображения из переменной:"
   ]
  },
  {
   "cell_type": "code",
   "execution_count": 28,
   "id": "577baed0",
   "metadata": {
    "colab": {
     "base_uri": "https://localhost:8080/",
     "height": 283
    },
    "executionInfo": {
     "elapsed": 322,
     "status": "ok",
     "timestamp": 1651734023381,
     "user": {
      "displayName": "Владислав Литвинов",
      "userId": "10051561819562137549"
     },
     "user_tz": -180
    },
    "id": "OyJkXqqvUBsK",
    "outputId": "df49f5f5-b209-45ca-9e54-07882944b615"
   },
   "outputs": [
    {
     "data": {
      "text/plain": [
       "<matplotlib.image.AxesImage at 0x27225c1e250>"
      ]
     },
     "execution_count": 28,
     "metadata": {},
     "output_type": "execute_result"
    },
    {
     "data": {
      "image/png": "[encoded data removed]",
      "text/plain": [
       "<Figure size 432x288 with 1 Axes>"
      ]
     },
     "metadata": {
      "needs_background": "light"
     },
     "output_type": "display_data"
    }
   ],
   "source": [
    "plt.imshow(X_test2)"
   ]
  },
  {
   "cell_type": "markdown",
   "id": "d2373b66",
   "metadata": {},
   "source": [
    "***\n",
    "**Задание на лабораторную работу**\n",
    "***"
   ]
  },
  {
   "cell_type": "markdown",
   "id": "5300b08b",
   "metadata": {},
   "source": [
    "1. Изучить понятия: **дропаут (dropout)**, **регуляризация**;\n",
    "2. Исследовать нейронную сеть **CIFARNet без дропаута**. Имеется ли переобучение в этой сети?;\n",
    "3. Исследовать нейронную сеть **CIFARNet с включенным дропаутом**. Исследовать влияние вероятности дропаута *p* на качество сети;\n",
    "4. Найти по одному верному и неверному случаю классификации изображения."
   ]
  },
  {
   "cell_type": "markdown",
   "id": "1f9df651",
   "metadata": {},
   "source": [
    "***\n",
    "**Ответы на задание**\n",
    "***"
   ]
  },
  {
   "cell_type": "markdown",
   "id": "739b3e9f",
   "metadata": {},
   "source": [
    "1. **Дропаут (dropout)** — алгоритм, ориентированный на предотвращение переобучения при помощи исключения из сети нейронов с вероятностью *p* и приравнивание вероятностей данных нейронов к нулю при любых входных параметрах. **Регуляризация** — метод аппроксимации функции потерь, при котором к каждому значению функции добавляется некоторое число, называемое штрафом, штраф рассчитывается исходя из весов нейронной сети, либо с помощью суммы квадратов коэффициентов.\n",
    "2. Нейронная сеть **CIFARnet без дропаута** показала точность распознавания со значением **0.7309**.\n",
    "3. Нейронная сеть **CIFARnet с включённым дропаутом** показала точность распознавания со значением **0.7275**.\n",
    "4. В большинстве итераций нейронная сеть верно классифицирует изображения. Однако для получения ситуации неверной классификации было намеренно создано переобучение, что привело к ошибке в классификации."
   ]
  },
  {
   "cell_type": "markdown",
   "id": "985c1c19",
   "metadata": {},
   "source": [
    "**Выводы**: при выполнении лабораторной работы были получены практические навыки оптимизации процесса обучения нейронной сети для предотвращения переобучения. Были освоены такие методики, как **регуляризация**, **ранняя остановка**, **аугментация** и **дропаут**, изучены теоретические основы, в соответствии с которыми оптимизируются результаты обучения, а также рассмотрены различные способы настройки дропаута. Работа проводилась с датасетом CIFAR для того, чтобы обеспечить комплексность анализируемых данных и приблизить процесс обучения к реальным данным."
   ]
  }
 ],
 "metadata": {
  "kernelspec": {
   "display_name": "Python 3 (ipykernel)",
   "language": "python",
   "name": "python3"
  },
  "language_info": {
   "codemirror_mode": {
    "name": "ipython",
    "version": 3
   },
   "file_extension": ".py",
   "mimetype": "text/x-python",
   "name": "python",
   "nbconvert_exporter": "python",
   "pygments_lexer": "ipython3",
   "version": "3.9.12"
  }
 },
 "nbformat": 4,
 "nbformat_minor": 5
}
