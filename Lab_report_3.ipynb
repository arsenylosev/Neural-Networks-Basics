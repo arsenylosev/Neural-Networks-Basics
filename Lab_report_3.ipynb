{
 "cells": [
  {
   "cell_type": "markdown",
   "id": "c73a1d7d",
   "metadata": {},
   "source": [
    "# Исследование методов классификации изображений рукописных цифр с помощью полносвязной нейронной сети"
   ]
  },
  {
   "cell_type": "markdown",
   "id": "5dafceda",
   "metadata": {},
   "source": [
    "Дисциплина: \"**Системы поддержки принятия решений**\""
   ]
  },
  {
   "cell_type": "markdown",
   "id": "328dc6f6",
   "metadata": {},
   "source": [
    "**Подготовил**: Лосев А. П., гр. ИСТ-131м, **вариант 6**."
   ]
  },
  {
   "cell_type": "markdown",
   "id": "83b232aa",
   "metadata": {},
   "source": [
    "Метод оптимизации — **SGD**, число нейронов в скрытом слое — **20**, шаг градиентного спуска — **0,01**."
   ]
  },
  {
   "cell_type": "markdown",
   "id": "c211ec6b",
   "metadata": {},
   "source": [
    "**Принял**: к.т.н., доцент кафедры ИУС, Литвинов В. Л."
   ]
  },
  {
   "cell_type": "markdown",
   "id": "05cf05ce",
   "metadata": {},
   "source": [
    "Импорт необходимых зависимостей и инициализация *random seed*:"
   ]
  },
  {
   "cell_type": "code",
   "execution_count": 1,
   "id": "204e7d0a",
   "metadata": {},
   "outputs": [],
   "source": [
    "import torch\n",
    "import random\n",
    "import numpy as np\n",
    "\n",
    "random.seed(0)\n",
    "np.random.seed(0)\n",
    "torch.manual_seed(0)\n",
    "torch.cuda.manual_seed(0)\n",
    "torch.backends.cudnn.deterministic = True"
   ]
  },
  {
   "cell_type": "markdown",
   "id": "b9bccf73",
   "metadata": {},
   "source": [
    "Подключение датасета MNIST, содержащего в себе примеры рукописных цифр, для обучения и верификации:"
   ]
  },
  {
   "cell_type": "code",
   "execution_count": 2,
   "id": "e37f64d6",
   "metadata": {},
   "outputs": [],
   "source": [
    "import torchvision.datasets\n",
    "MNIST_train = torchvision.datasets.MNIST('./', download=True, train=True)\n",
    "MNIST_test = torchvision.datasets.MNIST('./', download=True, train=False)"
   ]
  },
  {
   "cell_type": "markdown",
   "id": "2aa334d3",
   "metadata": {},
   "source": [
    "Загрузка необходимых данных и их разметки:"
   ]
  },
  {
   "cell_type": "code",
   "execution_count": 3,
   "id": "fd0bfd10",
   "metadata": {},
   "outputs": [
    {
     "name": "stderr",
     "output_type": "stream",
     "text": [
      "C:\\Users\\Arseniy Losev\\.conda\\envs\\SPPR_working\\lib\\site-packages\\torchvision\\datasets\\mnist.py:75: UserWarning: train_data has been renamed data\n",
      "  warnings.warn(\"train_data has been renamed data\")\n",
      "C:\\Users\\Arseniy Losev\\.conda\\envs\\SPPR_working\\lib\\site-packages\\torchvision\\datasets\\mnist.py:65: UserWarning: train_labels has been renamed targets\n",
      "  warnings.warn(\"train_labels has been renamed targets\")\n",
      "C:\\Users\\Arseniy Losev\\.conda\\envs\\SPPR_working\\lib\\site-packages\\torchvision\\datasets\\mnist.py:80: UserWarning: test_data has been renamed data\n",
      "  warnings.warn(\"test_data has been renamed data\")\n",
      "C:\\Users\\Arseniy Losev\\.conda\\envs\\SPPR_working\\lib\\site-packages\\torchvision\\datasets\\mnist.py:70: UserWarning: test_labels has been renamed targets\n",
      "  warnings.warn(\"test_labels has been renamed targets\")\n"
     ]
    }
   ],
   "source": [
    "X_train = MNIST_train.train_data\n",
    "y_train = MNIST_train.train_labels\n",
    "X_test = MNIST_test.test_data\n",
    "y_test = MNIST_test.test_labels"
   ]
  },
  {
   "cell_type": "markdown",
   "id": "7b86aff7",
   "metadata": {},
   "source": [
    "Получение информации о типе данных для переменных обучения и верификации:"
   ]
  },
  {
   "cell_type": "code",
   "execution_count": 4,
   "id": "f03b7325",
   "metadata": {},
   "outputs": [
    {
     "data": {
      "text/plain": [
       "(torch.uint8, torch.int64)"
      ]
     },
     "execution_count": 4,
     "metadata": {},
     "output_type": "execute_result"
    }
   ],
   "source": [
    "X_train.dtype, y_train.dtype"
   ]
  },
  {
   "cell_type": "markdown",
   "id": "360159e5",
   "metadata": {},
   "source": [
    "Изменение типа данных на число с плавающей точкой для корректной работы:"
   ]
  },
  {
   "cell_type": "code",
   "execution_count": 5,
   "id": "3135d5fc",
   "metadata": {},
   "outputs": [],
   "source": [
    "X_train = X_train.float()\n",
    "X_test = X_test.float()"
   ]
  },
  {
   "cell_type": "markdown",
   "id": "285a6b3a",
   "metadata": {},
   "source": [
    "Получение информации о размерности массивов для обучения:"
   ]
  },
  {
   "cell_type": "code",
   "execution_count": 6,
   "id": "ddd33383",
   "metadata": {},
   "outputs": [
    {
     "data": {
      "text/plain": [
       "(torch.Size([60000, 28, 28]), torch.Size([10000, 28, 28]))"
      ]
     },
     "execution_count": 6,
     "metadata": {},
     "output_type": "execute_result"
    }
   ],
   "source": [
    "X_train.shape, X_test.shape"
   ]
  },
  {
   "cell_type": "markdown",
   "id": "54056b3d",
   "metadata": {},
   "source": [
    "Получение информации о размерности массивов для верификации:"
   ]
  },
  {
   "cell_type": "code",
   "execution_count": 7,
   "id": "5000ae6d",
   "metadata": {},
   "outputs": [
    {
     "data": {
      "text/plain": [
       "(torch.Size([60000]), torch.Size([10000]))"
      ]
     },
     "execution_count": 7,
     "metadata": {},
     "output_type": "execute_result"
    }
   ],
   "source": [
    "y_train.shape, y_test.shape"
   ]
  },
  {
   "cell_type": "markdown",
   "id": "6b98fa5b",
   "metadata": {},
   "source": [
    "Визуализация одного из изображений рукописной цифры, используемого в наборе для обучения:"
   ]
  },
  {
   "cell_type": "code",
   "execution_count": 8,
   "id": "bb23d1ce",
   "metadata": {},
   "outputs": [
    {
     "data": {
      "image/png": "[encoded data removed]",
      "text/plain": [
       "<Figure size 432x288 with 1 Axes>"
      ]
     },
     "metadata": {
      "needs_background": "light"
     },
     "output_type": "display_data"
    },
    {
     "name": "stdout",
     "output_type": "stream",
     "text": [
      "tensor(9)\n"
     ]
    }
   ],
   "source": [
    "import matplotlib.pyplot as plt\n",
    "plt.imshow(X_train[4, :, :])\n",
    "plt.show()\n",
    "print(y_train[4])"
   ]
  },
  {
   "cell_type": "markdown",
   "id": "6ff4683e",
   "metadata": {},
   "source": [
    "Преобразование картинки из тензора в вектор:"
   ]
  },
  {
   "cell_type": "code",
   "execution_count": 9,
   "id": "7f453eab",
   "metadata": {},
   "outputs": [],
   "source": [
    "X_train = X_train.reshape([-1, 28 * 28])\n",
    "X_test = X_test.reshape([-1, 28 * 28])"
   ]
  },
  {
   "cell_type": "markdown",
   "id": "de52db8f",
   "metadata": {},
   "source": [
    "Создание модели сети для классификации цифр:"
   ]
  },
  {
   "cell_type": "code",
   "execution_count": 10,
   "id": "f2f7d757",
   "metadata": {},
   "outputs": [],
   "source": [
    "class MNISTNet(torch.nn.Module): \n",
    "    def __init__(self, n_hidden_neurons): \n",
    "        super(MNISTNet, self).__init__() \n",
    "        self.fc1 = torch.nn.Linear(28 * 28, 20) \n",
    "        self.ac1 = torch.nn.Sigmoid()\n",
    "        # self.fc2 = torch.nn.Linear(20, 20)\n",
    "        # self.ac2 = torch.nn.Sigmoid()\n",
    "        self.fc3 = torch.nn.Linear(20, 10) \n",
    "    def forward(self, x): \n",
    "        x = self.fc1(x) \n",
    "        x = self.ac1(x) \n",
    "        # x = self.fc2(x)\n",
    "        # x = self.ac2(x) \n",
    "        x = self.fc3(x)\n",
    "        return x \n",
    "mnist_net = MNISTNet(100)"
   ]
  },
  {
   "cell_type": "markdown",
   "id": "50d30206",
   "metadata": {},
   "source": [
    "Проверка доступности графического процессора для выполнения вычислений на нём:"
   ]
  },
  {
   "cell_type": "code",
   "execution_count": 11,
   "id": "c5d70ffc",
   "metadata": {},
   "outputs": [
    {
     "data": {
      "text/plain": [
       "True"
      ]
     },
     "execution_count": 11,
     "metadata": {},
     "output_type": "execute_result"
    }
   ],
   "source": [
    "torch.cuda.is_available()"
   ]
  },
  {
   "cell_type": "markdown",
   "id": "300ef814",
   "metadata": {},
   "source": [
    "Проверка наличия исполняемых на видеокарте операций/процессов:"
   ]
  },
  {
   "cell_type": "code",
   "execution_count": 12,
   "id": "b8966454",
   "metadata": {},
   "outputs": [
    {
     "name": "stdout",
     "output_type": "stream",
     "text": [
      "Sat May 21 16:28:23 2022       \n",
      "+-----------------------------------------------------------------------------+\n",
      "| NVIDIA-SMI 512.15       Driver Version: 512.15       CUDA Version: 11.6     |\n",
      "|-------------------------------+----------------------+----------------------+\n",
      "| GPU  Name            TCC/WDDM | Bus-Id        Disp.A | Volatile Uncorr. ECC |\n",
      "| Fan  Temp  Perf  Pwr:Usage/Cap|         Memory-Usage | GPU-Util  Compute M. |\n",
      "|                               |                      |               MIG M. |\n",
      "|===============================+======================+======================|\n",
      "|   0  NVIDIA GeForce ... WDDM  | 00000000:01:00.0 Off |                  N/A |\n",
      "| N/A   46C    P0    N/A /  N/A |      0MiB /  2048MiB |      0%      Default |\n",
      "|                               |                      |                  N/A |\n",
      "+-------------------------------+----------------------+----------------------+\n",
      "                                                                               \n",
      "+-----------------------------------------------------------------------------+\n",
      "| Processes:                                                                  |\n",
      "|  GPU   GI   CI        PID   Type   Process name                  GPU Memory |\n",
      "|        ID   ID                                                   Usage      |\n",
      "|=============================================================================|\n",
      "|  No running processes found                                                 |\n",
      "+-----------------------------------------------------------------------------+\n"
     ]
    }
   ],
   "source": [
    "!nvidia-smi"
   ]
  },
  {
   "cell_type": "markdown",
   "id": "7189f97e",
   "metadata": {},
   "source": [
    "Выбор GPU как первичного вычислительного устройства и релокация модели на графический процессор:"
   ]
  },
  {
   "cell_type": "code",
   "execution_count": 13,
   "id": "3180e6dd",
   "metadata": {},
   "outputs": [],
   "source": [
    "# device = torch.device('cuda:0' if torch.cuda.is_available() else 'cpu')\n",
    "# mnist_net = mnist_net.to(device)\n",
    "# list(mnist_net.parameters())"
   ]
  },
  {
   "cell_type": "markdown",
   "id": "30d07b47",
   "metadata": {},
   "source": [
    "Определение функции потерь и функции оптимизации:"
   ]
  },
  {
   "cell_type": "code",
   "execution_count": 14,
   "id": "b58e4329",
   "metadata": {},
   "outputs": [],
   "source": [
    "loss = torch.nn.CrossEntropyLoss()\n",
    "optimizer = torch.optim.SGD(mnist_net.parameters(), lr=0.01)"
   ]
  },
  {
   "cell_type": "markdown",
   "id": "d013c28c",
   "metadata": {},
   "source": [
    "Задание размера бэтча и запуск процесса обучения (следует прекратить обучение с помощью *KeyboardInterrupt* в момент, когда точность предсказаний дойдёт до значения ≈0.95):"
   ]
  },
  {
   "cell_type": "code",
   "execution_count": 15,
   "id": "1b92ebfc",
   "metadata": {
    "scrolled": true
   },
   "outputs": [
    {
     "name": "stdout",
     "output_type": "stream",
     "text": [
      "tensor(0.8272)\n",
      "tensor(0.8678)\n",
      "tensor(0.8685)\n",
      "tensor(0.8839)\n",
      "tensor(0.8865)\n",
      "tensor(0.8864)\n",
      "tensor(0.8874)\n",
      "tensor(0.8995)\n",
      "tensor(0.8982)\n",
      "tensor(0.8957)\n",
      "tensor(0.9015)\n",
      "tensor(0.8996)\n",
      "tensor(0.9031)\n",
      "tensor(0.9061)\n",
      "tensor(0.9066)\n",
      "tensor(0.9034)\n",
      "tensor(0.9062)\n",
      "tensor(0.9012)\n",
      "tensor(0.9060)\n",
      "tensor(0.9034)\n",
      "tensor(0.9043)\n",
      "tensor(0.9096)\n",
      "tensor(0.9063)\n",
      "tensor(0.9070)\n",
      "tensor(0.9075)\n",
      "tensor(0.9055)\n",
      "tensor(0.9090)\n",
      "tensor(0.9069)\n",
      "tensor(0.9124)\n",
      "tensor(0.9072)\n",
      "tensor(0.9135)\n",
      "tensor(0.9048)\n",
      "tensor(0.9070)\n",
      "tensor(0.9131)\n",
      "tensor(0.9178)\n",
      "tensor(0.9154)\n",
      "tensor(0.9123)\n",
      "tensor(0.9126)\n",
      "tensor(0.9111)\n",
      "tensor(0.9097)\n",
      "tensor(0.9139)\n",
      "tensor(0.9141)\n",
      "tensor(0.9129)\n",
      "tensor(0.9128)\n",
      "tensor(0.9114)\n",
      "tensor(0.9109)\n",
      "tensor(0.9097)\n",
      "tensor(0.9192)\n",
      "tensor(0.9194)\n",
      "tensor(0.9190)\n",
      "tensor(0.9159)\n",
      "tensor(0.9182)\n",
      "tensor(0.9180)\n",
      "tensor(0.9171)\n",
      "tensor(0.9161)\n",
      "tensor(0.9193)\n",
      "tensor(0.9188)\n",
      "tensor(0.9166)\n",
      "tensor(0.9160)\n",
      "tensor(0.9178)\n",
      "tensor(0.9238)\n",
      "tensor(0.9175)\n",
      "tensor(0.9143)\n",
      "tensor(0.9225)\n",
      "tensor(0.9174)\n",
      "tensor(0.9228)\n",
      "tensor(0.9224)\n",
      "tensor(0.9182)\n",
      "tensor(0.9203)\n",
      "tensor(0.9237)\n",
      "tensor(0.9232)\n",
      "tensor(0.9199)\n",
      "tensor(0.9156)\n",
      "tensor(0.9143)\n",
      "tensor(0.9225)\n",
      "tensor(0.9114)\n",
      "tensor(0.9192)\n",
      "tensor(0.9148)\n",
      "tensor(0.9199)\n",
      "tensor(0.9114)\n",
      "tensor(0.9201)\n",
      "tensor(0.9202)\n",
      "tensor(0.9244)\n",
      "tensor(0.9192)\n",
      "tensor(0.9215)\n",
      "tensor(0.9256)\n",
      "tensor(0.9171)\n",
      "tensor(0.9255)\n",
      "tensor(0.9242)\n",
      "tensor(0.9211)\n",
      "tensor(0.9255)\n",
      "tensor(0.9232)\n",
      "tensor(0.9240)\n",
      "tensor(0.9291)\n",
      "tensor(0.9213)\n",
      "tensor(0.9260)\n",
      "tensor(0.9266)\n",
      "tensor(0.9169)\n",
      "tensor(0.9230)\n",
      "tensor(0.9211)\n",
      "CPU times: total: 5min 32s\n",
      "Wall time: 1min 23s\n"
     ]
    }
   ],
   "source": [
    "%%time\n",
    "batch_size = 100\n",
    "test_accuracy_history = []\n",
    "test_loss_history = []\n",
    "train_loss_history = []\n",
    "\n",
    "# X_test = X_test.to(device)\n",
    "# y_test = y_test.to(device)\n",
    "# X_train = X_train.to(device)\n",
    "# y_train = y_train.to(device)\n",
    "\n",
    "for epoch in range(100):\n",
    "    order = np.random.permutation(len(X_train))\n",
    "    \n",
    "    for start_index in range(0, len(X_train), batch_size):\n",
    "        optimizer.zero_grad()\n",
    "        \n",
    "        batch_indexes = order[start_index:start_index+batch_size]\n",
    "        \n",
    "        X_batch = X_train[batch_indexes] #.to(device)\n",
    "        y_batch = y_train[batch_indexes] #.to(device)\n",
    "        \n",
    "        preds = mnist_net.forward(X_batch) \n",
    "        \n",
    "        loss_value = loss(preds, y_batch)\n",
    "        loss_value.backward()\n",
    "        \n",
    "        optimizer.step()\n",
    "\n",
    "    test_preds = mnist_net.forward(X_test)\n",
    "    loss_for_history = loss(test_preds, y_test).detach()\n",
    "    test_loss_history.append(loss_for_history)\n",
    "    \n",
    "    train_preds = mnist_net.forward(X_train)\n",
    "    loss_for_history_2 = loss(train_preds, y_train).detach()\n",
    "    train_loss_history.append(loss_for_history_2)\n",
    "    \n",
    "    accuracy = (test_preds.argmax(dim=1) == y_test).float().mean()\n",
    "    test_accuracy_history.append(accuracy)\n",
    "    print(accuracy)"
   ]
  },
  {
   "cell_type": "markdown",
   "id": "2e3da1aa",
   "metadata": {},
   "source": [
    "График точности предсказаний на эпохах обучения:"
   ]
  },
  {
   "cell_type": "code",
   "execution_count": 16,
   "id": "4e84636c",
   "metadata": {
    "scrolled": true
   },
   "outputs": [
    {
     "data": {
      "text/plain": [
       "[<matplotlib.lines.Line2D at 0x26d8f4881f0>]"
      ]
     },
     "execution_count": 16,
     "metadata": {},
     "output_type": "execute_result"
    },
    {
     "data": {
      "image/png": "[encoded data removed]",
      "text/plain": [
       "<Figure size 432x288 with 1 Axes>"
      ]
     },
     "metadata": {
      "needs_background": "light"
     },
     "output_type": "display_data"
    }
   ],
   "source": [
    "plt.plot(test_accuracy_history)"
   ]
  },
  {
   "cell_type": "markdown",
   "id": "77b7f97c",
   "metadata": {},
   "source": [
    "График функции потерь на эпохах обучения:"
   ]
  },
  {
   "cell_type": "code",
   "execution_count": 17,
   "id": "4b47b062",
   "metadata": {
    "scrolled": false
   },
   "outputs": [
    {
     "data": {
      "text/plain": [
       "[<matplotlib.lines.Line2D at 0x26d9093e910>]"
      ]
     },
     "execution_count": 17,
     "metadata": {},
     "output_type": "execute_result"
    },
    {
     "data": {
      "image/png": "[encoded data removed]",
      "text/plain": [
       "<Figure size 432x288 with 1 Axes>"
      ]
     },
     "metadata": {
      "needs_background": "light"
     },
     "output_type": "display_data"
    }
   ],
   "source": [
    "plt.plot(test_loss_history)"
   ]
  },
  {
   "cell_type": "markdown",
   "id": "d2373b66",
   "metadata": {},
   "source": [
    "***\n",
    "**Задание на лабораторную работу**\n",
    "***"
   ]
  },
  {
   "cell_type": "markdown",
   "id": "5300b08b",
   "metadata": {},
   "source": [
    "1. Исследовать нейронную сеть при заданных начальных параметрах (Метод оптимизации — **SGD**, число нейронов в скрытом слое — **20**, шаг градиентного спуска — **0,01**);\n",
    "2. Исследовать зависимость точности распознавания от количества нейронов в скрытом слое, количества слоев, метода активации;\n",
    "3.\tЗамерьте время вычисления 100 эпох на CPU и на GPU. Какое ускорение вы наблюдаете?\n",
    "4.\tПостройте на одном графике loss для train и test. Имеется ли переобучение сети?"
   ]
  },
  {
   "cell_type": "markdown",
   "id": "1f9df651",
   "metadata": {},
   "source": [
    "***\n",
    "**Ответы на задание**\n",
    "***"
   ]
  },
  {
   "cell_type": "markdown",
   "id": "739b3e9f",
   "metadata": {},
   "source": [
    "1. При заданных начальных параметрах нейронная сеть обучается до значения точности предсказания **≈0.92**, обучение нейросети на центральном процессоре осуществляется за **1 минуту и 23 секунды**, а на графическом процессоре за **1 минуту и 52 секунды**. Данные показатели справедливы для периода оюучения в **100 эпох**.\n",
    "2. При увеличении количества нейронов в два раза точность предсказания увеличилась до **≈0.95**, а при уменьшении в два раза уменьшилась до **≈0.89**. Время обучения изменялось в незначительных диапазонах **до 5 секунд**. Добавление скрытого слоя к текущей конфигурации нейросети не изменило ни точность предсказания, ни время обучения. Изменение метода активации с **SGD** на **ADAM** привело к увеличению времени обучения (от **1 минуты и 23 секунд** до **2 минут и 11 секунд**) и дало уменьшение точности предсказания с **≈0.92** до **≈0.89**.\n",
    "3. Время обучения нейронной сети указано в ответе на пункт 1.\n",
    "4. Графическая зависимость функций потерь датасетов *Train* и *Test* приведена на рисунке. Графики очень схожи, значит, переобучение отсутствует."
   ]
  },
  {
   "cell_type": "markdown",
   "id": "b64c7681",
   "metadata": {},
   "source": [
    "График функции потерь для датасетов *Train* и *Test*:"
   ]
  },
  {
   "cell_type": "code",
   "execution_count": 18,
   "id": "5d4b97a0",
   "metadata": {},
   "outputs": [
    {
     "data": {
      "text/plain": [
       "[<matplotlib.lines.Line2D at 0x26d909a4580>]"
      ]
     },
     "execution_count": 18,
     "metadata": {},
     "output_type": "execute_result"
    },
    {
     "data": {
      "image/png": "[encoded data removed]",
      "text/plain": [
       "<Figure size 432x288 with 1 Axes>"
      ]
     },
     "metadata": {
      "needs_background": "light"
     },
     "output_type": "display_data"
    }
   ],
   "source": [
    "plt.plot(test_loss_history)\n",
    "plt.plot(train_loss_history)"
   ]
  },
  {
   "cell_type": "markdown",
   "id": "985c1c19",
   "metadata": {},
   "source": [
    "**Выводы**: при выполнении лабораторной работы были получены практические навыки разработки искусственной нейронной сети для классификации рукописных цифр из общедоступного датасета *MNIST*. Итогом работы стала система классификации изображений, которая может исполняться как на CPU, так и на GPU. В случае с персональным компьютером, который использовался для выполнения лабораторной работы, существенного выигрыша при использовании GPU не получается по причине устаревшего поколения графического процессора и низких вычислительных мощностей (**Nvidia MX150**) по сравнению с центральным процессором(**Intel Core I5-8250U**). Однако обучение и реализация исполняются и на CPU, и на GPU без технических сложностей, значит, работа выполнена успешно."
   ]
  }
 ],
 "metadata": {
  "kernelspec": {
   "display_name": "Python 3 (ipykernel)",
   "language": "python",
   "name": "python3"
  },
  "language_info": {
   "codemirror_mode": {
    "name": "ipython",
    "version": 3
   },
   "file_extension": ".py",
   "mimetype": "text/x-python",
   "name": "python",
   "nbconvert_exporter": "python",
   "pygments_lexer": "ipython3",
   "version": "3.9.12"
  }
 },
 "nbformat": 4,
 "nbformat_minor": 5
}
