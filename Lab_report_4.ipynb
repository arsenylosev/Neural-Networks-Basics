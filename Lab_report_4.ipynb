{
 "cells": [
  {
   "cell_type": "markdown",
   "id": "c73a1d7d",
   "metadata": {},
   "source": [
    "# Исследование методов классификации изображений рукописных цифр с помощью сверточной нейронной сети"
   ]
  },
  {
   "cell_type": "markdown",
   "id": "5dafceda",
   "metadata": {},
   "source": [
    "Дисциплина: \"**Системы поддержки принятия решений**\""
   ]
  },
  {
   "cell_type": "markdown",
   "id": "328dc6f6",
   "metadata": {},
   "source": [
    "**Подготовил**: Лосев А. П., гр. ИСТ-131м, **вариант 6**."
   ]
  },
  {
   "cell_type": "markdown",
   "id": "83b232aa",
   "metadata": {},
   "source": [
    "Метод оптимизации — **SGD**, метод активации — **ReLU**, шаг градиентного спуска — **0,01**."
   ]
  },
  {
   "cell_type": "markdown",
   "id": "c211ec6b",
   "metadata": {},
   "source": [
    "**Принял**: к.т.н., доцент кафедры ИУС, Литвинов В. Л."
   ]
  },
  {
   "cell_type": "markdown",
   "id": "05cf05ce",
   "metadata": {},
   "source": [
    "Импорт необходимых зависимостей и инициализация *random seed*:"
   ]
  },
  {
   "cell_type": "code",
   "execution_count": 1,
   "id": "c2bc1bde",
   "metadata": {},
   "outputs": [],
   "source": [
    "import torch\n",
    "import random\n",
    "import numpy as np\n",
    "\n",
    "random.seed(0)\n",
    "np.random.seed(0)\n",
    "torch.manual_seed(0)\n",
    "torch.cuda.manual_seed(0)\n",
    "torch.backends.cudnn.deterministic = True"
   ]
  },
  {
   "cell_type": "markdown",
   "id": "72ece4c0",
   "metadata": {},
   "source": [
    "Импорт встроенных наборов для обучения"
   ]
  },
  {
   "cell_type": "code",
   "execution_count": 2,
   "id": "22788755",
   "metadata": {},
   "outputs": [],
   "source": [
    "import torchvision.datasets"
   ]
  },
  {
   "cell_type": "markdown",
   "id": "046a27f0",
   "metadata": {},
   "source": [
    "Загрузка датасетов MNIST для обучения и валидации результатов:"
   ]
  },
  {
   "cell_type": "code",
   "execution_count": 3,
   "id": "ce7ace0c",
   "metadata": {},
   "outputs": [],
   "source": [
    "MNIST_train = torchvision.datasets.MNIST('./', download=True, train=True)\n",
    "MNIST_test = torchvision.datasets.MNIST('./', download=True, train=False)"
   ]
  },
  {
   "cell_type": "markdown",
   "id": "e9b30240",
   "metadata": {},
   "source": [
    "Размещение загруженных датасетов в переменные:"
   ]
  },
  {
   "cell_type": "code",
   "execution_count": 4,
   "id": "93ffd539",
   "metadata": {},
   "outputs": [
    {
     "name": "stderr",
     "output_type": "stream",
     "text": [
      "C:\\Users\\Arseniy Losev\\.conda\\envs\\SPPR_working\\lib\\site-packages\\torchvision\\datasets\\mnist.py:75: UserWarning: train_data has been renamed data\n",
      "  warnings.warn(\"train_data has been renamed data\")\n",
      "C:\\Users\\Arseniy Losev\\.conda\\envs\\SPPR_working\\lib\\site-packages\\torchvision\\datasets\\mnist.py:65: UserWarning: train_labels has been renamed targets\n",
      "  warnings.warn(\"train_labels has been renamed targets\")\n",
      "C:\\Users\\Arseniy Losev\\.conda\\envs\\SPPR_working\\lib\\site-packages\\torchvision\\datasets\\mnist.py:80: UserWarning: test_data has been renamed data\n",
      "  warnings.warn(\"test_data has been renamed data\")\n",
      "C:\\Users\\Arseniy Losev\\.conda\\envs\\SPPR_working\\lib\\site-packages\\torchvision\\datasets\\mnist.py:70: UserWarning: test_labels has been renamed targets\n",
      "  warnings.warn(\"test_labels has been renamed targets\")\n"
     ]
    }
   ],
   "source": [
    "X_train = MNIST_train.train_data\n",
    "y_train = MNIST_train.train_labels\n",
    "X_test = MNIST_test.test_data\n",
    "y_test = MNIST_test.test_labels"
   ]
  },
  {
   "cell_type": "markdown",
   "id": "540382b5",
   "metadata": {},
   "source": [
    "Вывод информации о количестве индивидуальных единиц данных в датасетах:"
   ]
  },
  {
   "cell_type": "code",
   "execution_count": 5,
   "id": "5372b207",
   "metadata": {},
   "outputs": [
    {
     "data": {
      "text/plain": [
       "(60000, 10000)"
      ]
     },
     "execution_count": 5,
     "metadata": {},
     "output_type": "execute_result"
    }
   ],
   "source": [
    "len(y_train), len(y_test)"
   ]
  },
  {
   "cell_type": "markdown",
   "id": "9d0e6208",
   "metadata": {},
   "source": [
    "Представление данных в датасете через числа с плавающей точкой для удобства манипулирования:"
   ]
  },
  {
   "cell_type": "code",
   "execution_count": 6,
   "id": "76da6f05",
   "metadata": {},
   "outputs": [],
   "source": [
    "X_train = X_train.float()\n",
    "X_test = X_test.float()"
   ]
  },
  {
   "cell_type": "markdown",
   "id": "ab56e8c8",
   "metadata": {},
   "source": [
    "Вывод на график единичного изображения цифры из набора для обучения:"
   ]
  },
  {
   "cell_type": "code",
   "execution_count": 7,
   "id": "387f9606",
   "metadata": {},
   "outputs": [
    {
     "data": {
      "image/png": "[encoded data removed]",
      "text/plain": [
       "<Figure size 432x288 with 1 Axes>"
      ]
     },
     "metadata": {
      "needs_background": "light"
     },
     "output_type": "display_data"
    },
    {
     "name": "stdout",
     "output_type": "stream",
     "text": [
      "tensor(1)\n"
     ]
    }
   ],
   "source": [
    "import matplotlib.pyplot as plt\n",
    "plt.imshow(X_train[8, :, :])\n",
    "plt.show()\n",
    "print(y_train[8])"
   ]
  },
  {
   "cell_type": "markdown",
   "id": "2111bad4",
   "metadata": {},
   "source": [
    "Представление изображений из датасета как трёхмерных тензоров:"
   ]
  },
  {
   "cell_type": "code",
   "execution_count": 8,
   "id": "85b0a6ff",
   "metadata": {},
   "outputs": [],
   "source": [
    "X_train = X_train.unsqueeze(1).float()\n",
    "X_test = X_test.unsqueeze(1).float()"
   ]
  },
  {
   "cell_type": "markdown",
   "id": "10e0cf81",
   "metadata": {},
   "source": [
    "Вывод информации о размерности набора данных для обучения, где указано количество изображений (**60000**) и размерность тензора изображения (**1x28x28**):"
   ]
  },
  {
   "cell_type": "code",
   "execution_count": 9,
   "id": "ba015227",
   "metadata": {},
   "outputs": [
    {
     "data": {
      "text/plain": [
       "torch.Size([60000, 1, 28, 28])"
      ]
     },
     "execution_count": 9,
     "metadata": {},
     "output_type": "execute_result"
    }
   ],
   "source": [
    "X_train.shape"
   ]
  },
  {
   "cell_type": "markdown",
   "id": "53a52454",
   "metadata": {},
   "source": [
    "Создание модели нейронной сети по подобию с сетью ЛеКуна при помощи наследования от класса *Module*:"
   ]
  },
  {
   "cell_type": "code",
   "execution_count": 10,
   "id": "fa389ae8",
   "metadata": {},
   "outputs": [],
   "source": [
    "class LeNet5(torch.nn.Module):\n",
    "    def __init__(self):\n",
    "        super(LeNet5, self).__init__()\n",
    "        \n",
    "        self.conv1 = torch.nn.Conv2d(\n",
    "            in_channels=1, out_channels=6, kernel_size=5, padding=2)\n",
    "        self.act1  = torch.nn.Tanh()\n",
    "        self.pool1 = torch.nn.AvgPool2d(kernel_size=2, stride=2)\n",
    "       \n",
    "        self.conv2 = torch.nn.Conv2d(\n",
    "            in_channels=6, out_channels=16, kernel_size=5, padding=0)\n",
    "        self.act2  = torch.nn.Tanh()\n",
    "        self.pool2 = torch.nn.AvgPool2d(kernel_size=2, stride=2)\n",
    "        \n",
    "        self.fc1   = torch.nn.Linear(5 * 5 * 16, 120)\n",
    "        self.act3  = torch.nn.Tanh()\n",
    "        \n",
    "        self.fc2   = torch.nn.Linear(120, 84)\n",
    "        self.act4  = torch.nn.Tanh()\n",
    "        \n",
    "        self.fc3   = torch.nn.Linear(84, 10)\n",
    "    \n",
    "    def forward(self, x):\n",
    "        \n",
    "        x = self.conv1(x)\n",
    "        x = self.act1(x)\n",
    "        x = self.pool1(x)\n",
    "        \n",
    "        x = self.conv2(x)\n",
    "        x = self.act2(x)\n",
    "        x = self.pool2(x)\n",
    "        \n",
    "        x = x.view(x.size(0), x.size(1) * x.size(2) * x.size(3))\n",
    "\n",
    "        x = self.fc1(x)\n",
    "        x = self.act3(x)\n",
    "        x = self.fc2(x)\n",
    "        x = self.act4(x)\n",
    "        x = self.fc3(x)\n",
    "        \n",
    "        return x\n",
    "    \n",
    "lenet5 = LeNet5()"
   ]
  },
  {
   "cell_type": "markdown",
   "id": "7063f971",
   "metadata": {},
   "source": [
    "Выбор графического ускорителя как приоритетного устройства для выполнения вычислений:"
   ]
  },
  {
   "cell_type": "code",
   "execution_count": 11,
   "id": "32e637ec",
   "metadata": {},
   "outputs": [],
   "source": [
    "device = torch.device('cuda:0' if torch.cuda.is_available() else 'cpu')\n",
    "lenet5 = lenet5.to(device)"
   ]
  },
  {
   "cell_type": "markdown",
   "id": "642173df",
   "metadata": {},
   "source": [
    "Создание функции потерь и оптимизатора:"
   ]
  },
  {
   "cell_type": "code",
   "execution_count": 12,
   "id": "34b846ed",
   "metadata": {},
   "outputs": [],
   "source": [
    "loss = torch.nn.CrossEntropyLoss()\n",
    "optimizer = torch.optim.SGD(lenet5.parameters(), lr=1.0e-2)"
   ]
  },
  {
   "cell_type": "markdown",
   "id": "09ec8bc9",
   "metadata": {},
   "source": [
    "Обучение нейронной сети на тестовом наборе данных:"
   ]
  },
  {
   "cell_type": "code",
   "execution_count": 13,
   "id": "df89b6b7",
   "metadata": {},
   "outputs": [
    {
     "name": "stdout",
     "output_type": "stream",
     "text": [
      "tensor(0.7937)\n",
      "tensor(0.8943)\n",
      "tensor(0.9236)\n",
      "tensor(0.9390)\n",
      "tensor(0.9486)\n",
      "tensor(0.9558)\n",
      "tensor(0.9613)\n",
      "tensor(0.9665)\n",
      "tensor(0.9695)\n",
      "tensor(0.9718)\n",
      "tensor(0.9739)\n",
      "tensor(0.9758)\n",
      "tensor(0.9745)\n",
      "tensor(0.9783)\n",
      "tensor(0.9788)\n",
      "tensor(0.9798)\n",
      "tensor(0.9813)\n",
      "tensor(0.9805)\n",
      "tensor(0.9815)\n",
      "tensor(0.9822)\n",
      "tensor(0.9827)\n",
      "tensor(0.9823)\n",
      "tensor(0.9834)\n",
      "tensor(0.9842)\n",
      "tensor(0.9841)\n",
      "tensor(0.9840)\n",
      "tensor(0.9834)\n",
      "tensor(0.9845)\n",
      "tensor(0.9844)\n",
      "tensor(0.9852)\n",
      "tensor(0.9857)\n",
      "tensor(0.9856)\n",
      "tensor(0.9860)\n",
      "tensor(0.9855)\n",
      "tensor(0.9858)\n",
      "tensor(0.9867)\n",
      "tensor(0.9864)\n",
      "tensor(0.9862)\n",
      "tensor(0.9869)\n",
      "tensor(0.9874)\n",
      "tensor(0.9870)\n",
      "tensor(0.9886)\n",
      "tensor(0.9877)\n",
      "tensor(0.9874)\n",
      "tensor(0.9880)\n",
      "tensor(0.9870)\n",
      "tensor(0.9878)\n",
      "tensor(0.9882)\n",
      "tensor(0.9889)\n",
      "tensor(0.9872)\n",
      "tensor(0.9879)\n",
      "tensor(0.9876)\n",
      "tensor(0.9874)\n",
      "tensor(0.9880)\n",
      "tensor(0.9879)\n",
      "tensor(0.9881)\n",
      "tensor(0.9883)\n",
      "tensor(0.9885)\n",
      "tensor(0.9888)\n",
      "tensor(0.9885)\n",
      "tensor(0.9888)\n",
      "tensor(0.9887)\n",
      "tensor(0.9886)\n",
      "tensor(0.9881)\n",
      "tensor(0.9899)\n",
      "tensor(0.9900)\n",
      "tensor(0.9896)\n",
      "tensor(0.9899)\n",
      "tensor(0.9899)\n",
      "tensor(0.9883)\n",
      "tensor(0.9889)\n",
      "tensor(0.9900)\n",
      "tensor(0.9898)\n",
      "tensor(0.9902)\n",
      "tensor(0.9898)\n",
      "tensor(0.9899)\n",
      "tensor(0.9903)\n",
      "tensor(0.9903)\n",
      "tensor(0.9904)\n",
      "tensor(0.9905)\n",
      "tensor(0.9899)\n",
      "tensor(0.9896)\n",
      "tensor(0.9907)\n",
      "tensor(0.9909)\n",
      "tensor(0.9904)\n",
      "tensor(0.9905)\n",
      "tensor(0.9910)\n",
      "tensor(0.9911)\n",
      "tensor(0.9906)\n",
      "tensor(0.9904)\n",
      "tensor(0.9904)\n",
      "tensor(0.9910)\n",
      "tensor(0.9908)\n",
      "tensor(0.9906)\n",
      "tensor(0.9905)\n",
      "tensor(0.9912)\n",
      "tensor(0.9898)\n",
      "tensor(0.9907)\n",
      "tensor(0.9905)\n",
      "tensor(0.9907)\n",
      "CPU times: total: 35min 52s\n",
      "Wall time: 9min 31s\n"
     ]
    }
   ],
   "source": [
    "%%time\n",
    "batch_size = 100\n",
    "\n",
    "test_accuracy_history = []\n",
    "test_loss_history = []\n",
    "\n",
    "X_test = X_test.to(device)\n",
    "y_test = y_test.to(device)\n",
    "\n",
    "for epoch in range(100):\n",
    "    order = np.random.permutation(len(X_train))\n",
    "    for start_index in range(0, len(X_train), batch_size):\n",
    "        optimizer.zero_grad()\n",
    "        \n",
    "        batch_indexes = order[start_index:start_index+batch_size]\n",
    "        \n",
    "        X_batch = X_train[batch_indexes].to(device)\n",
    "        y_batch = y_train[batch_indexes].to(device)\n",
    "        \n",
    "        preds = lenet5.forward(X_batch) \n",
    "        \n",
    "        loss_value = loss(preds, y_batch)\n",
    "        loss_value.backward()\n",
    "        \n",
    "        optimizer.step()\n",
    "        \n",
    "    test_preds = lenet5.forward(X_test)\n",
    "    test_loss_history.append(loss(test_preds, y_test).data.cpu())\n",
    "    \n",
    "    accuracy = (test_preds.argmax(dim=1) == y_test).float().mean().data.cpu()\n",
    "    test_accuracy_history.append(accuracy)\n",
    "    \n",
    "    print(accuracy)"
   ]
  },
  {
   "cell_type": "markdown",
   "id": "d709c12a",
   "metadata": {},
   "source": [
    "Вывод информации о базовом тензоре из тестового набора данных:"
   ]
  },
  {
   "cell_type": "code",
   "execution_count": 14,
   "id": "36e35b52",
   "metadata": {
    "scrolled": true
   },
   "outputs": [
    {
     "data": {
      "text/plain": [
       "tensor([[-0.4910,  0.0477,  0.5417,  ..., 12.9238, -2.1081,  2.7101],\n",
       "        [ 2.4520,  0.8093, 12.2178,  ..., -5.3480,  2.1526, -2.9404],\n",
       "        [-2.3685, 12.4361, -1.0142,  ...,  1.4449, -0.0448, -4.2194],\n",
       "        ...,\n",
       "        [-4.1308,  0.5742, -4.3452,  ...,  0.9044,  1.0055,  1.6071],\n",
       "        [-0.8059, -3.3774, -4.0473,  ..., -5.7716,  6.3763, -2.3795],\n",
       "        [ 1.6100, -3.3545,  0.1102,  ..., -9.4266,  0.5856, -2.7137]],\n",
       "       device='cuda:0', grad_fn=<AddmmBackward0>)"
      ]
     },
     "execution_count": 14,
     "metadata": {},
     "output_type": "execute_result"
    }
   ],
   "source": [
    "lenet5.forward(X_test)"
   ]
  },
  {
   "cell_type": "markdown",
   "id": "09cacd01",
   "metadata": {},
   "source": [
    "Графическая репрезентация точности прогнозирования:"
   ]
  },
  {
   "cell_type": "code",
   "execution_count": 15,
   "id": "6aea8bf6",
   "metadata": {
    "scrolled": true
   },
   "outputs": [
    {
     "data": {
      "image/png": "[encoded data removed]",
      "text/plain": [
       "<Figure size 432x288 with 1 Axes>"
      ]
     },
     "metadata": {
      "needs_background": "light"
     },
     "output_type": "display_data"
    }
   ],
   "source": [
    "plt.plot(test_accuracy_history);"
   ]
  },
  {
   "cell_type": "markdown",
   "id": "89e94b2f",
   "metadata": {},
   "source": [
    "Графическая репрезентация функции потерь:"
   ]
  },
  {
   "cell_type": "code",
   "execution_count": 16,
   "id": "cf965a9f",
   "metadata": {
    "scrolled": true
   },
   "outputs": [
    {
     "data": {
      "image/png": "[encoded data removed]",
      "text/plain": [
       "<Figure size 432x288 with 1 Axes>"
      ]
     },
     "metadata": {
      "needs_background": "light"
     },
     "output_type": "display_data"
    }
   ],
   "source": [
    "plt.plot(test_loss_history);"
   ]
  },
  {
   "cell_type": "markdown",
   "id": "6ad3dc5e",
   "metadata": {},
   "source": [
    "Вывод информации о цифре из тестового датасета:"
   ]
  },
  {
   "cell_type": "code",
   "execution_count": 17,
   "id": "8b610077",
   "metadata": {},
   "outputs": [
    {
     "name": "stdout",
     "output_type": "stream",
     "text": [
      "tensor(9, device='cuda:0')\n"
     ]
    }
   ],
   "source": [
    "print(y_test[108])"
   ]
  },
  {
   "cell_type": "markdown",
   "id": "f6fccda2",
   "metadata": {},
   "source": [
    "Считывание значения из тестового датасета и запись в отдельную переменную:"
   ]
  },
  {
   "cell_type": "code",
   "execution_count": 18,
   "id": "b6ce24b9",
   "metadata": {},
   "outputs": [],
   "source": [
    "X_test1 = X_test[108, :, :, :]"
   ]
  },
  {
   "cell_type": "markdown",
   "id": "9b606591",
   "metadata": {},
   "source": [
    "Преобразование переменной в формат данных, удобный для представления и манипуляции:"
   ]
  },
  {
   "cell_type": "code",
   "execution_count": 19,
   "id": "84b7f6f3",
   "metadata": {},
   "outputs": [],
   "source": [
    "X_test1 = X_test1.unsqueeze(0).float()"
   ]
  },
  {
   "cell_type": "markdown",
   "id": "775669ca",
   "metadata": {},
   "source": [
    "Вывод информации о размерности переменной:"
   ]
  },
  {
   "cell_type": "code",
   "execution_count": 20,
   "id": "e3790a8c",
   "metadata": {},
   "outputs": [
    {
     "data": {
      "text/plain": [
       "torch.Size([1, 1, 28, 28])"
      ]
     },
     "execution_count": 20,
     "metadata": {},
     "output_type": "execute_result"
    }
   ],
   "source": [
    "X_test1.shape"
   ]
  },
  {
   "cell_type": "markdown",
   "id": "70663dee",
   "metadata": {},
   "source": [
    "Вызов созданной функции *forward* для переменной:"
   ]
  },
  {
   "cell_type": "code",
   "execution_count": 21,
   "id": "f57ed747",
   "metadata": {},
   "outputs": [
    {
     "data": {
      "text/plain": [
       "tensor([[-3.9393, -3.5282, -1.5161, -0.1960,  3.3509, -0.1077, -6.1747,  0.1115,\n",
       "          2.3598, 12.8691]], device='cuda:0', grad_fn=<AddmmBackward0>)"
      ]
     },
     "execution_count": 21,
     "metadata": {},
     "output_type": "execute_result"
    }
   ],
   "source": [
    "lenet5.forward(X_test1)"
   ]
  },
  {
   "cell_type": "markdown",
   "id": "af371ebe",
   "metadata": {},
   "source": [
    "Перенос переменной с *GPU* на *CPU* для возможности вывода на график:"
   ]
  },
  {
   "cell_type": "code",
   "execution_count": 22,
   "id": "b0650ab3",
   "metadata": {},
   "outputs": [],
   "source": [
    "X_test1 = X_test[108, 0, :, :].to('cpu')"
   ]
  },
  {
   "cell_type": "markdown",
   "id": "4152af6b",
   "metadata": {},
   "source": [
    "Вывод цифры из тестового датасета на график:"
   ]
  },
  {
   "cell_type": "code",
   "execution_count": 23,
   "id": "c0f8ca3a",
   "metadata": {},
   "outputs": [
    {
     "data": {
      "image/png": "[encoded data removed]",
      "text/plain": [
       "<Figure size 432x288 with 1 Axes>"
      ]
     },
     "metadata": {
      "needs_background": "light"
     },
     "output_type": "display_data"
    }
   ],
   "source": [
    "plt.imshow(X_test1)\n",
    "plt.show()"
   ]
  },
  {
   "cell_type": "markdown",
   "id": "d2373b66",
   "metadata": {},
   "source": [
    "***\n",
    "**Задание на лабораторную работу**\n",
    "***"
   ]
  },
  {
   "cell_type": "markdown",
   "id": "5300b08b",
   "metadata": {},
   "source": [
    "1. Изучить понятия: **свёртка**, **паддинг**, **страйд**, ***average_pooling***, ***max_pooling***;\n",
    "2. Исследовать нейронную сеть при заданных начальных параметрах (**вариант 6**);\n",
    "3.\tИсследовать зависимость точности распознавания от количества слоев, метода активации (например, *ReLU*), шага *lr* и типа пулинга;\n",
    "4.\tЗамерьте время вычисления 100 эпох на CPU и на GPU. Какое ускорение вы наблюдаете?;\n",
    "5. Попробуйте добиться качества 0.992  на данном датасете;\n",
    "\n",
    "    `Обратите внимание на следующие моменты:`\n",
    "    \n",
    "    Появляется ли у вас переобучение при увеличении количества эпох?\n",
    "    \n",
    "    Как добавление различных слоев влияет на скорость обучения (какие слои быстрее: сверточные или полносвязные)?\n",
    "    \n",
    "    \n",
    "6. Проверьте верность распознавания на нескольких примерах входных данных."
   ]
  },
  {
   "cell_type": "markdown",
   "id": "1f9df651",
   "metadata": {},
   "source": [
    "***\n",
    "**Ответы на задание**\n",
    "***"
   ]
  },
  {
   "cell_type": "markdown",
   "id": "739b3e9f",
   "metadata": {},
   "source": [
    "1. **Свёртка** — операция с матрицами, заключающаяся в фильтрации матрицы во время сканирования при помощи скользящего окна определённой размерности. **Паддинг** — увеличение размера матрицы до величины, кратной размеру скользящего окна, для корректной работы фильтра. **Страйд** — размер окна для свёртки. ***average_pooling*** — свёртка с записью среднего значения значений массива, образованных страйдом. ***max_pooling*** — свёртка с записью наибольшего значения значений массива, образованных страйдом.\n",
    "   \n",
    "2. Для данной нейронной сети базовые значения, указанные для **варианта 6**, дали положительные результаты, так как уже через **10 эпох** нейросеть выдаёт результат точности, составляющий **0.9883**. Данный показатель является положительным результатом, однако существует возможность для дополнительной оптимизации модели.\n",
    "\n",
    "3. Уменьшение шага *lr* дало уменьшение точности прогнозирования и увеличение времени обучения сети. Изменение функции активации на *Sigmoid* вместо *ReLU* дало значительно меньшую точность прогнозирования (около **0.8773** вместо **0.9987** для *ReLU*), а также увеличило время обучения в полтора раза. Добавление дополнительного слоя нейронной сети перед преобразованием данных в одномерный вектор дало лишь небольшое увеличение промежутка времени обучения (приближённо на **2 минуты**), а также снижение точности прогнозирования на **0.0376**. Изменение вида пуллинга с *Average Pooling* на *Max Pooling* не дало существенных отличий в точности, однако увеличило время обучения на **1 минуту и 23 секунды**.\n",
    "\n",
    "4. Для данной нейронной сети наблюдается выполнение обучения в **100 эпох** за **20 минут и 13 секунд** при использовании **CPU**, а при использовании **GPU** — за **9 минут и 33 секунды**.\n",
    "\n",
    "5. Точность прогнозирования до показателя **0.992** повысить не получилось однако наилучший показатель, который показала нейросеть — **0.9916**.\n",
    "\n",
    "6. При валидации верности распознавания значения из тестового датасета и прогнозы обученной нейросети совпали во всех случаях тестирования."
   ]
  },
  {
   "cell_type": "markdown",
   "id": "985c1c19",
   "metadata": {},
   "source": [
    "**Выводы**: при выполнении лабораторной работы были получены практические навыки разработки свёрточной нейронной сети, был изучен алгоритм свёртки, принципы манипуляции точностью обучения, а также различные виды пуллинга для усреднения значений при свёртке. Были также разобраны и выяснены причины, по которым свёрточные нейронные сети являются подходящим инструментом для классификации изображений."
   ]
  }
 ],
 "metadata": {
  "kernelspec": {
   "display_name": "Python 3 (ipykernel)",
   "language": "python",
   "name": "python3"
  },
  "language_info": {
   "codemirror_mode": {
    "name": "ipython",
    "version": 3
   },
   "file_extension": ".py",
   "mimetype": "text/x-python",
   "name": "python",
   "nbconvert_exporter": "python",
   "pygments_lexer": "ipython3",
   "version": "3.9.12"
  }
 },
 "nbformat": 4,
 "nbformat_minor": 5
}
