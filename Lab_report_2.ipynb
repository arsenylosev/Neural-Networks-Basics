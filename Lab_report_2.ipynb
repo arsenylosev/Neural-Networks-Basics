{
 "cells": [
  {
   "cell_type": "markdown",
   "id": "71547dcb",
   "metadata": {},
   "source": [
    "# Исследование методов классификации данных с помощью нейронной сети"
   ]
  },
  {
   "cell_type": "markdown",
   "id": "7938bab2",
   "metadata": {},
   "source": [
    "Дисциплина: \"**Системы поддержки принятия решений**\""
   ]
  },
  {
   "cell_type": "markdown",
   "id": "81a9974b",
   "metadata": {},
   "source": [
    "**Подготовил**: Лосев А. П., гр. ИСТ-131м, **вариант 6**."
   ]
  },
  {
   "cell_type": "markdown",
   "id": "06641fad",
   "metadata": {},
   "source": [
    "Метод оптимизации — **SGD**, число нейронов в скрытом слое — **20**, шаг градиентного спуска — **0,01**."
   ]
  },
  {
   "cell_type": "markdown",
   "id": "3144dda8",
   "metadata": {},
   "source": [
    "**Принял**: Литвинов В. Л."
   ]
  },
  {
   "cell_type": "markdown",
   "id": "cfbb0df3",
   "metadata": {},
   "source": [
    "Импорт необходимых зависимостей:"
   ]
  },
  {
   "cell_type": "code",
   "execution_count": 1,
   "id": "0afce2c0",
   "metadata": {},
   "outputs": [],
   "source": [
    "import torch\n",
    "import random\n",
    "import numpy as np"
   ]
  },
  {
   "cell_type": "markdown",
   "id": "952e6cc3",
   "metadata": {},
   "source": [
    "Создание *random seed* и установление для него конкретного значения:"
   ]
  },
  {
   "cell_type": "code",
   "execution_count": 2,
   "id": "96a75d82",
   "metadata": {},
   "outputs": [],
   "source": [
    "random.seed(0)\n",
    "np.random.seed(0)\n",
    "torch.manual_seed(0)\n",
    "torch.cuda.manual_seed(0)\n",
    "torch.backends.cudnn.deterministic = True"
   ]
  },
  {
   "cell_type": "markdown",
   "id": "f0a57e17",
   "metadata": {},
   "source": [
    "Импорт датасета вин для анализа размеченных данных:"
   ]
  },
  {
   "cell_type": "code",
   "execution_count": 3,
   "id": "ba3bd50c",
   "metadata": {},
   "outputs": [
    {
     "data": {
      "text/plain": [
       "(178, 13)"
      ]
     },
     "execution_count": 3,
     "metadata": {},
     "output_type": "execute_result"
    }
   ],
   "source": [
    "import sklearn.datasets\n",
    "wine = sklearn.datasets.load_wine()\n",
    "wine.data.shape"
   ]
  },
  {
   "cell_type": "markdown",
   "id": "607336a1",
   "metadata": {},
   "source": [
    "Разделение датасета пополам и перемешивание данных в датасете, а также расчёт *base_rate*:"
   ]
  },
  {
   "cell_type": "code",
   "execution_count": 4,
   "id": "d31ffb75",
   "metadata": {},
   "outputs": [
    {
     "name": "stdout",
     "output_type": "stream",
     "text": [
      "Base rate is 0.398876404494382\n"
     ]
    }
   ],
   "source": [
    "from sklearn.model_selection import train_test_split \n",
    "X_train, X_test, y_train, y_test = train_test_split(\n",
    "          wine.data[:, :2],\n",
    "    wine.target, \n",
    "    test_size=0.3, \n",
    "    shuffle=True) \n",
    "X_train = torch.FloatTensor(X_train) \n",
    "X_test = torch.FloatTensor(X_test) \n",
    "y_train = torch.LongTensor(y_train) \n",
    "y_test = torch.LongTensor(y_test)\n",
    "\n",
    "base_rate = len(wine.target[wine.target==1])/len(wine.target)\n",
    "print('Base rate is', base_rate)"
   ]
  },
  {
   "cell_type": "markdown",
   "id": "202caa33",
   "metadata": {},
   "source": [
    "Создание нейросети для классификации вин:"
   ]
  },
  {
   "cell_type": "code",
   "execution_count": 5,
   "id": "aab6a88a",
   "metadata": {},
   "outputs": [],
   "source": [
    "class WineNet(torch.nn.Module):\n",
    "    def __init__(self, n_hidden_neurons):\n",
    "        super(WineNet, self).__init__()\n",
    "        \n",
    "        self.fc1 = torch.nn.Linear(2, 20)\n",
    "        self.activ1 = torch.nn.Sigmoid()\n",
    "        #self.fc2 = torch.nn.Linear(20, 20)\n",
    "        #self.activ2 = torch.nn.Sigmoid()\n",
    "        self.fc3 = torch.nn.Linear(20, 3)\n",
    "        self.sm = torch.nn.Softmax(dim=1)\n",
    "        \n",
    "    def forward(self, x):\n",
    "        x = self.fc1(x)\n",
    "        x = self.activ1(x)\n",
    "        #x = self.fc2(x)\n",
    "        #x = self.activ2(x)\n",
    "        x = self.fc3(x)\n",
    "        return x\n",
    "\n",
    "    def inference(self, x):\n",
    "        x = self.forward(x)\n",
    "        x = self.sm(x)\n",
    "        return x\n",
    "    \n",
    "wine_net = WineNet(5)"
   ]
  },
  {
   "cell_type": "markdown",
   "id": "254e9220",
   "metadata": {},
   "source": [
    "Расчёт оiибки и задание оптимайзера для нейронной сети:"
   ]
  },
  {
   "cell_type": "code",
   "execution_count": 6,
   "id": "a4e396ba",
   "metadata": {},
   "outputs": [],
   "source": [
    "loss = torch.nn.CrossEntropyLoss()\n",
    "\n",
    "optimizer = torch.optim.SGD(wine_net.parameters(), lr=1.0e-2)"
   ]
  },
  {
   "cell_type": "markdown",
   "id": "5f08c475",
   "metadata": {},
   "source": [
    "Разбиение данных на батчи и обучение нейросети по эпохам:"
   ]
  },
  {
   "cell_type": "code",
   "execution_count": 7,
   "id": "ba3d4ffa",
   "metadata": {
    "scrolled": true
   },
   "outputs": [
    {
     "name": "stdout",
     "output_type": "stream",
     "text": [
      "tensor(0.3519)\n",
      "tensor(0.4630)\n",
      "tensor(0.4815)\n",
      "tensor(0.4630)\n",
      "tensor(0.4630)\n",
      "tensor(0.4815)\n",
      "tensor(0.5000)\n",
      "tensor(0.6667)\n",
      "tensor(0.7963)\n",
      "tensor(0.6481)\n",
      "tensor(0.8333)\n",
      "tensor(0.7593)\n",
      "tensor(0.7778)\n",
      "tensor(0.7593)\n",
      "tensor(0.7963)\n",
      "tensor(0.6481)\n",
      "tensor(0.5000)\n",
      "tensor(0.7222)\n",
      "tensor(0.7407)\n",
      "tensor(0.7407)\n",
      "tensor(0.8519)\n",
      "tensor(0.8148)\n",
      "tensor(0.6852)\n",
      "tensor(0.6667)\n",
      "tensor(0.6852)\n",
      "tensor(0.8519)\n",
      "tensor(0.8148)\n",
      "tensor(0.6852)\n",
      "tensor(0.4815)\n",
      "tensor(0.8519)\n",
      "tensor(0.7593)\n",
      "tensor(0.8333)\n",
      "tensor(0.8333)\n",
      "tensor(0.4630)\n",
      "tensor(0.6852)\n",
      "tensor(0.8333)\n",
      "tensor(0.7593)\n",
      "tensor(0.6667)\n",
      "tensor(0.6111)\n",
      "tensor(0.8704)\n",
      "tensor(0.8148)\n",
      "tensor(0.8704)\n",
      "tensor(0.6852)\n",
      "tensor(0.8333)\n",
      "tensor(0.4630)\n",
      "tensor(0.8148)\n",
      "tensor(0.6852)\n",
      "tensor(0.8889)\n",
      "tensor(0.7593)\n",
      "tensor(0.8704)\n",
      "CPU times: total: 2min 26s\n",
      "Wall time: 36.7 s\n"
     ]
    }
   ],
   "source": [
    "%%time\n",
    "batch_size = 10\n",
    "\n",
    "for epoch in range(5000):\n",
    "    order = np.random.permutation(len(X_train))\n",
    "    for start_index in range(0, len(X_train), batch_size):\n",
    "        optimizer.zero_grad()\n",
    "        \n",
    "        batch_indexes = order[start_index:start_index+batch_size]\n",
    "        \n",
    "        x_batch = X_train[batch_indexes]\n",
    "        y_batch = y_train[batch_indexes]\n",
    "        \n",
    "        preds = wine_net.forward(x_batch) \n",
    "        \n",
    "        loss_value = loss(preds, y_batch)\n",
    "        loss_value.backward()\n",
    "        \n",
    "        optimizer.step()\n",
    "        \n",
    "    if epoch % 100 == 0:\n",
    "        test_preds = wine_net.forward(X_test)\n",
    "        test_preds = test_preds.argmax(dim=1)\n",
    "        print((test_preds == y_test).float().mean())"
   ]
  },
  {
   "cell_type": "markdown",
   "id": "dbb8aace",
   "metadata": {},
   "source": [
    "Визуализация предсказаний для нейронной сети, созданной в данной работе:"
   ]
  },
  {
   "cell_type": "code",
   "execution_count": 8,
   "id": "e41c599f",
   "metadata": {},
   "outputs": [
    {
     "name": "stderr",
     "output_type": "stream",
     "text": [
      "C:\\Users\\Arseniy Losev\\AppData\\Local\\Temp\\ipykernel_20500\\273158456.py:25: UserWarning: Creating a tensor from a list of numpy.ndarrays is extremely slow. Please consider converting the list to a single numpy.ndarray with numpy.array() before converting to a tensor. (Triggered internally at  C:\\cb\\pytorch_1000000000000\\work\\torch\\csrc\\utils\\tensor_new.cpp:210.)\n",
      "  plt.scatter(X_train[indexes, 0],\n"
     ]
    },
    {
     "data": {
      "image/png": "[encoded data removed]",
      "text/plain": [
       "<Figure size 720x576 with 1 Axes>"
      ]
     },
     "metadata": {
      "needs_background": "light"
     },
     "output_type": "display_data"
    }
   ],
   "source": [
    "import matplotlib.pyplot as plt\n",
    "%matplotlib inline\n",
    "\n",
    "plt.rcParams['figure.figsize'] = (10, 8)\n",
    "\n",
    "n_classes = 3\n",
    "plot_colors = ['g', 'orange', 'black']\n",
    "plot_step = 0.02\n",
    "\n",
    "x_min, x_max = X_train[:, 0].min() - 1, X_train[:, 0].max() + 1\n",
    "y_min, y_max = X_train[:, 1].min() - 1, X_train[:, 1].max() + 1\n",
    "\n",
    "xx, yy =  torch.meshgrid(torch.arange(x_min, x_max, plot_step),\n",
    "                         torch.arange(y_min, y_max, plot_step), indexing=\"xy\")\n",
    "\n",
    "preds = wine_net.inference(\n",
    "    torch.cat([xx.reshape(-1, 1), yy.reshape(-1, 1)], dim=1))\n",
    "\n",
    "preds_class = preds.data.numpy().argmax(axis=1)\n",
    "preds_class = preds_class.reshape(xx.shape)\n",
    "plt.contourf(xx, yy, preds_class, cmap='Accent')\n",
    "\n",
    "for i, color in zip(range(n_classes), plot_colors):\n",
    "    indexes = np.where(y_train == i)\n",
    "    plt.scatter(X_train[indexes, 0], \n",
    "                X_train[indexes, 1], \n",
    "                c=color, \n",
    "                label=wine.target_names[i],\n",
    "                cmap='Accent')\n",
    "    plt.xlabel(wine.feature_names[0])\n",
    "    plt.ylabel(wine.feature_names[1])\n",
    "    plt.legend()"
   ]
  },
  {
   "cell_type": "markdown",
   "id": "3eba6153",
   "metadata": {},
   "source": [
    "***\n",
    "**Задание на лабораторную работу**\n",
    "***"
   ]
  },
  {
   "cell_type": "markdown",
   "id": "e1895e8a",
   "metadata": {},
   "source": [
    "1. Изучить понятие кросс-энтропии и *Softmax*\n",
    "2. Исследовать нейронную сеть при заданных начальных параметрах (см. таблицу). Найти минимальное значение n_hidden_neurons, при котором сеть дает неудовлетворительные результаты, т.е. обучение невозможно.\n",
    "3.\tИсследовать зависимость точности распознавания от количества нейронов в скрытом слое, количества слоев, метода активации.\n",
    "4.\tПри каком значении *test_size* сеть предсказывает хуже, чем *Base Rate* (*BaseRate* –это вероятность самого многочисленного класса в исходных данных)? И какой *Base Rate* у датасета вин?\n",
    "5.\tИсследовать зависимость времени обучения от размера батча."
   ]
  },
  {
   "cell_type": "markdown",
   "id": "e8f095be",
   "metadata": {},
   "source": [
    "***\n",
    "**Ответы на задание**\n",
    "***"
   ]
  },
  {
   "cell_type": "markdown",
   "id": "f6476804",
   "metadata": {},
   "source": [
    "1. Кросс-энтропия — функция потерь, которая используется для оценки разности между распределениями вероятностей. *Softmax* — функция, используемая для трансформирования набора чисел в набор вероятностей, которые в сумме составляют единицу, и применяемая для классификации данных.\n",
    "2. При выполнении **варианта 6** используются следующие параметры: метод оптимизации — **SGD**, число нейронов в скрытом слое — **20**, шаг градиентного спуска — **0,01**. При использовании **SGD**—метода заметны более интенсивные изменения значения *accuracy*, нежели при использовании метода **ADAM**. Данная нейронная сеть становится практически необучаемой, если гиперпараметр ***m_hidden_neurons*** становится равным **7**.\n",
    "3. При неизменности прочих гиперпараметров, методы оптимизации **ADAM** и **SGD** эквивалентны между собой, потому как в первом случае *accuracy* составила **0,8519**, а во втором случае — **0,8704**. Увеличение количества нейронов от оптимального значения для варианта не дало существенного прироста для *accuracy*, однако их уменьшение сказалось на данном параметре в сторону уменьшения значения. Увеличение количества скрытых слоёв значительно снижает точность и увеличивает время работы кода.\n",
    "4. Нейросеть предсказывает хуже, если параметр *test_size* имеет значение **0,037** и меньше. *Base Rate* для датасета вин составляет **0,3989**.\n",
    "5. Размер батча обратно пропорционален времени обучения. При размере батча в **2** единицы обучение проводится за **3 минуты и 34 секунды**. При размере батча в **25** единиц обучение проводится за **14 секунд**. При размере батча в **10** единиц обучение проводится за **45 секунд**."
   ]
  },
  {
   "cell_type": "markdown",
   "id": "9c7a7129",
   "metadata": {},
   "source": [
    "**Выводы**: при выполнении лабораторной работы были получены практические навыки работы с искуственной нейронной сетью, задания необходимой конфигурации гиперпараметров и архитектуры нейросети, использования различных алгоритмов оптимизации, добавления и удаления скрытых слоёв внутри нейросети, а также работы с датасетом реальных данных. Также были получены базовые навыки работы с данными, нуждающимися в классификации, а именно скремблированием данных с последующим считыванием. Нейронная сеть была в процессе работы сконфигурирована с расчётом на оптимальный режим работы обучения, с целью получения наибольшего коэффициента *accuracy* за наименьшее время. Для этого был проведён поиск оптимальных параметров размера бэтча, количества нейронов в скрытом слое, а также параметра *test_size*."
   ]
  }
 ],
 "metadata": {
  "kernelspec": {
   "display_name": "Python 3 (ipykernel)",
   "language": "python",
   "name": "python3"
  },
  "language_info": {
   "codemirror_mode": {
    "name": "ipython",
    "version": 3
   },
   "file_extension": ".py",
   "mimetype": "text/x-python",
   "name": "python",
   "nbconvert_exporter": "python",
   "pygments_lexer": "ipython3",
   "version": "3.9.12"
  }
 },
 "nbformat": 4,
 "nbformat_minor": 5
}
